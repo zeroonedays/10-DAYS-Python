{
 "cells": [
  {
   "cell_type": "markdown",
   "metadata": {},
   "source": [
    "# Fucntion\n",
    "## do a pecific task"
   ]
  },
  {
   "cell_type": "code",
   "execution_count": 1,
   "metadata": {
    "collapsed": true
   },
   "outputs": [],
   "source": [
    "def print_name():\n",
    "    print('Hello, Alexa')"
   ]
  },
  {
   "cell_type": "code",
   "execution_count": 2,
   "metadata": {
    "collapsed": false
   },
   "outputs": [
    {
     "name": "stdout",
     "output_type": "stream",
     "text": [
      "Hello, Alexa\n"
     ]
    }
   ],
   "source": [
    "print_name()"
   ]
  },
  {
   "cell_type": "code",
   "execution_count": 3,
   "metadata": {
    "collapsed": false
   },
   "outputs": [
    {
     "name": "stdout",
     "output_type": "stream",
     "text": [
      "Hello, Alexa\n"
     ]
    }
   ],
   "source": [
    "print_name()"
   ]
  },
  {
   "cell_type": "code",
   "execution_count": 4,
   "metadata": {
    "collapsed": false
   },
   "outputs": [
    {
     "name": "stdout",
     "output_type": "stream",
     "text": [
      "Hello, Alexa\n"
     ]
    }
   ],
   "source": [
    "print_name()"
   ]
  },
  {
   "cell_type": "markdown",
   "metadata": {},
   "source": [
    "# strucuture of the function"
   ]
  },
  {
   "cell_type": "markdown",
   "metadata": {},
   "source": [
    "def function_name(a,da,d,ad,aed,ae,a):\n",
    "\n",
    "    do anything"
   ]
  },
  {
   "cell_type": "markdown",
   "metadata": {},
   "source": [
    "# parameters and arguments"
   ]
  },
  {
   "cell_type": "code",
   "execution_count": 5,
   "metadata": {
    "collapsed": true
   },
   "outputs": [],
   "source": [
    "def sumoftwonum(a,b):\n",
    "    print(a+b)"
   ]
  },
  {
   "cell_type": "code",
   "execution_count": 6,
   "metadata": {
    "collapsed": false
   },
   "outputs": [
    {
     "name": "stdout",
     "output_type": "stream",
     "text": [
      "5\n"
     ]
    }
   ],
   "source": [
    "sumoftwonum(2,3)"
   ]
  },
  {
   "cell_type": "code",
   "execution_count": 7,
   "metadata": {
    "collapsed": false
   },
   "outputs": [
    {
     "name": "stdout",
     "output_type": "stream",
     "text": [
      "9\n"
     ]
    }
   ],
   "source": [
    "sumoftwonum(4,5)"
   ]
  },
  {
   "cell_type": "code",
   "execution_count": 8,
   "metadata": {
    "collapsed": true
   },
   "outputs": [],
   "source": [
    "def sumofthreenum(a,b,c):\n",
    "    print(a+b+c)"
   ]
  },
  {
   "cell_type": "code",
   "execution_count": 9,
   "metadata": {
    "collapsed": false
   },
   "outputs": [
    {
     "name": "stdout",
     "output_type": "stream",
     "text": [
      "6\n"
     ]
    }
   ],
   "source": [
    "sumofthreenum(1,2,3)"
   ]
  },
  {
   "cell_type": "code",
   "execution_count": 12,
   "metadata": {
    "collapsed": true
   },
   "outputs": [],
   "source": [
    "def sumofthreenum(a,b,c):\n",
    "    print('a is '+str(a))\n",
    "    print('b is '+str(b))\n",
    "    print('c is '+str(c))\n",
    "    print(a+b+c)"
   ]
  },
  {
   "cell_type": "code",
   "execution_count": 13,
   "metadata": {
    "collapsed": false
   },
   "outputs": [
    {
     "name": "stdout",
     "output_type": "stream",
     "text": [
      "a is 1\n",
      "b is 2\n",
      "c is 3\n",
      "6\n"
     ]
    }
   ],
   "source": [
    "sumofthreenum(1,2,3)"
   ]
  },
  {
   "cell_type": "code",
   "execution_count": 14,
   "metadata": {
    "collapsed": false
   },
   "outputs": [
    {
     "name": "stdout",
     "output_type": "stream",
     "text": [
      "a is 2\n",
      "b is 1\n",
      "c is 3\n",
      "6\n"
     ]
    }
   ],
   "source": [
    "sumofthreenum(2,1,3)"
   ]
  },
  {
   "cell_type": "code",
   "execution_count": 15,
   "metadata": {
    "collapsed": true
   },
   "outputs": [],
   "source": [
    "def namefavcity(name, city):\n",
    "    print('my name is '+name.title())\n",
    "    print('my favorite city is '+city.title())"
   ]
  },
  {
   "cell_type": "code",
   "execution_count": 16,
   "metadata": {
    "collapsed": false
   },
   "outputs": [
    {
     "name": "stdout",
     "output_type": "stream",
     "text": [
      "my name is Alexa\n",
      "my favorite city is Banglore\n"
     ]
    }
   ],
   "source": [
    "namefavcity('alexa', \"banglore\")"
   ]
  },
  {
   "cell_type": "code",
   "execution_count": 17,
   "metadata": {
    "collapsed": false
   },
   "outputs": [
    {
     "name": "stdout",
     "output_type": "stream",
     "text": [
      "my name is Banglore\n",
      "my favorite city is Alexa\n"
     ]
    }
   ],
   "source": [
    "namefavcity(\"banglore\",'alexa')"
   ]
  },
  {
   "cell_type": "markdown",
   "metadata": {},
   "source": [
    "## keyword arguments"
   ]
  },
  {
   "cell_type": "code",
   "execution_count": 18,
   "metadata": {
    "collapsed": false
   },
   "outputs": [
    {
     "name": "stdout",
     "output_type": "stream",
     "text": [
      "my name is Alexa\n",
      "my favorite city is Banglore\n"
     ]
    }
   ],
   "source": [
    "namefavcity(name='alexa', city = \"banglore\")"
   ]
  },
  {
   "cell_type": "code",
   "execution_count": 19,
   "metadata": {
    "collapsed": false
   },
   "outputs": [
    {
     "name": "stdout",
     "output_type": "stream",
     "text": [
      "my name is Alexa\n",
      "my favorite city is Banglore\n"
     ]
    }
   ],
   "source": [
    "namefavcity(city = \"banglore\", name = 'Alexa')"
   ]
  },
  {
   "cell_type": "code",
   "execution_count": 20,
   "metadata": {
    "collapsed": true
   },
   "outputs": [],
   "source": [
    "def favlang(name, lang):\n",
    "    print('My name is '+name.title())\n",
    "    print('My fav language is '+ lang.title())"
   ]
  },
  {
   "cell_type": "code",
   "execution_count": 21,
   "metadata": {
    "collapsed": false
   },
   "outputs": [
    {
     "name": "stdout",
     "output_type": "stream",
     "text": [
      "My name is Alexa\n",
      "My fav language is Python\n"
     ]
    }
   ],
   "source": [
    "favlang('alexa', 'python')"
   ]
  },
  {
   "cell_type": "code",
   "execution_count": 22,
   "metadata": {
    "collapsed": false
   },
   "outputs": [
    {
     "name": "stdout",
     "output_type": "stream",
     "text": [
      "My name is Shaan\n",
      "My fav language is C\n"
     ]
    }
   ],
   "source": [
    "favlang('shaan', 'c')"
   ]
  },
  {
   "cell_type": "code",
   "execution_count": 23,
   "metadata": {
    "collapsed": false
   },
   "outputs": [
    {
     "name": "stdout",
     "output_type": "stream",
     "text": [
      "My name is Gopal\n",
      "My fav language is Python\n"
     ]
    }
   ],
   "source": [
    "favlang('gopal', 'python')"
   ]
  },
  {
   "cell_type": "code",
   "execution_count": 24,
   "metadata": {
    "collapsed": false
   },
   "outputs": [
    {
     "name": "stdout",
     "output_type": "stream",
     "text": [
      "My name is Kabvya\n",
      "My fav language is C++\n"
     ]
    }
   ],
   "source": [
    "favlang('kabvya', 'c++')"
   ]
  },
  {
   "cell_type": "markdown",
   "metadata": {},
   "source": [
    "# Default values"
   ]
  },
  {
   "cell_type": "code",
   "execution_count": 25,
   "metadata": {
    "collapsed": true
   },
   "outputs": [],
   "source": [
    "def favlang(name, lang='python'):\n",
    "    print('My name is '+name.title())\n",
    "    print('My fav language is '+ lang.title())"
   ]
  },
  {
   "cell_type": "code",
   "execution_count": 26,
   "metadata": {
    "collapsed": false
   },
   "outputs": [
    {
     "name": "stdout",
     "output_type": "stream",
     "text": [
      "My name is Alexa\n",
      "My fav language is Python\n"
     ]
    }
   ],
   "source": [
    "favlang('alexa')"
   ]
  },
  {
   "cell_type": "code",
   "execution_count": 27,
   "metadata": {
    "collapsed": false
   },
   "outputs": [
    {
     "name": "stdout",
     "output_type": "stream",
     "text": [
      "My name is Gopal\n",
      "My fav language is Python\n"
     ]
    }
   ],
   "source": [
    "favlang('gopal')"
   ]
  },
  {
   "cell_type": "code",
   "execution_count": 28,
   "metadata": {
    "collapsed": false
   },
   "outputs": [
    {
     "name": "stdout",
     "output_type": "stream",
     "text": [
      "My name is Rahul\n",
      "My fav language is Python\n"
     ]
    }
   ],
   "source": [
    "favlang('rahul')"
   ]
  },
  {
   "cell_type": "code",
   "execution_count": 29,
   "metadata": {
    "collapsed": false
   },
   "outputs": [
    {
     "name": "stdout",
     "output_type": "stream",
     "text": [
      "My name is Rahul\n",
      "My fav language is C\n"
     ]
    }
   ],
   "source": [
    "favlang('rahul','c')"
   ]
  },
  {
   "cell_type": "code",
   "execution_count": 30,
   "metadata": {
    "collapsed": false
   },
   "outputs": [
    {
     "name": "stdout",
     "output_type": "stream",
     "text": [
      "My name is Darshi\n",
      "My fav language is Php\n"
     ]
    }
   ],
   "source": [
    "favlang('darshi', 'php')"
   ]
  },
  {
   "cell_type": "code",
   "execution_count": 31,
   "metadata": {
    "collapsed": false
   },
   "outputs": [
    {
     "ename": "TypeError",
     "evalue": "favlang() takes from 1 to 2 positional arguments but 3 were given",
     "output_type": "error",
     "traceback": [
      "\u001b[1;31m---------------------------------------------------------------------------\u001b[0m",
      "\u001b[1;31mTypeError\u001b[0m                                 Traceback (most recent call last)",
      "\u001b[1;32m<ipython-input-31-de9d7460710a>\u001b[0m in \u001b[0;36m<module>\u001b[1;34m()\u001b[0m\n\u001b[1;32m----> 1\u001b[1;33m \u001b[0mfavlang\u001b[0m\u001b[1;33m(\u001b[0m\u001b[1;34m'darshi'\u001b[0m\u001b[1;33m,\u001b[0m \u001b[1;34m'php'\u001b[0m\u001b[1;33m,\u001b[0m\u001b[1;34m'fs'\u001b[0m\u001b[1;33m)\u001b[0m\u001b[1;33m\u001b[0m\u001b[0m\n\u001b[0m",
      "\u001b[1;31mTypeError\u001b[0m: favlang() takes from 1 to 2 positional arguments but 3 were given"
     ]
    }
   ],
   "source": [
    "favlang('darshi', 'php','fs')"
   ]
  },
  {
   "cell_type": "code",
   "execution_count": 32,
   "metadata": {
    "collapsed": false
   },
   "outputs": [
    {
     "ename": "TypeError",
     "evalue": "favlang() missing 1 required positional argument: 'name'",
     "output_type": "error",
     "traceback": [
      "\u001b[1;31m---------------------------------------------------------------------------\u001b[0m",
      "\u001b[1;31mTypeError\u001b[0m                                 Traceback (most recent call last)",
      "\u001b[1;32m<ipython-input-32-82f5d1b92182>\u001b[0m in \u001b[0;36m<module>\u001b[1;34m()\u001b[0m\n\u001b[1;32m----> 1\u001b[1;33m \u001b[0mfavlang\u001b[0m\u001b[1;33m(\u001b[0m\u001b[1;33m)\u001b[0m\u001b[1;33m\u001b[0m\u001b[0m\n\u001b[0m",
      "\u001b[1;31mTypeError\u001b[0m: favlang() missing 1 required positional argument: 'name'"
     ]
    }
   ],
   "source": [
    "favlang()"
   ]
  },
  {
   "cell_type": "code",
   "execution_count": 33,
   "metadata": {
    "collapsed": true
   },
   "outputs": [],
   "source": [
    "def sumoftwonum(a,b):\n",
    "    return a+b"
   ]
  },
  {
   "cell_type": "code",
   "execution_count": 34,
   "metadata": {
    "collapsed": false
   },
   "outputs": [
    {
     "data": {
      "text/plain": [
       "5"
      ]
     },
     "execution_count": 34,
     "metadata": {},
     "output_type": "execute_result"
    }
   ],
   "source": [
    "sumoftwonum(2,3)"
   ]
  },
  {
   "cell_type": "code",
   "execution_count": 35,
   "metadata": {
    "collapsed": false
   },
   "outputs": [
    {
     "name": "stdout",
     "output_type": "stream",
     "text": [
      "9\n"
     ]
    }
   ],
   "source": [
    "print(sumoftwonum(4,5))"
   ]
  },
  {
   "cell_type": "code",
   "execution_count": 1,
   "metadata": {
    "collapsed": true
   },
   "outputs": [],
   "source": [
    "def adduptonumber(num):\n",
    "    start = 0\n",
    "    sumofnum = 0\n",
    "    while start <= num:\n",
    "        sumofnum += start\n",
    "        start += 1\n",
    "    return sumofnum"
   ]
  },
  {
   "cell_type": "code",
   "execution_count": 2,
   "metadata": {
    "collapsed": false
   },
   "outputs": [
    {
     "data": {
      "text/plain": [
       "55"
      ]
     },
     "execution_count": 2,
     "metadata": {},
     "output_type": "execute_result"
    }
   ],
   "source": [
    "adduptonumber(10)"
   ]
  },
  {
   "cell_type": "code",
   "execution_count": 3,
   "metadata": {
    "collapsed": false
   },
   "outputs": [
    {
     "name": "stdout",
     "output_type": "stream",
     "text": [
      "The sum of 100 number is 5050\n"
     ]
    }
   ],
   "source": [
    "print('The sum of 100 number is '+str(adduptonumber(100)))"
   ]
  },
  {
   "cell_type": "code",
   "execution_count": 4,
   "metadata": {
    "collapsed": false
   },
   "outputs": [
    {
     "name": "stdout",
     "output_type": "stream",
     "text": [
      "The sum of 200 number is 20100\n"
     ]
    }
   ],
   "source": [
    "print('The sum of 200 number is '+str(adduptonumber(200)))"
   ]
  },
  {
   "cell_type": "markdown",
   "metadata": {},
   "source": [
    "# function in dictionaries"
   ]
  },
  {
   "cell_type": "code",
   "execution_count": 6,
   "metadata": {
    "collapsed": true
   },
   "outputs": [],
   "source": [
    "def my_fav_places(name, fav_place):\n",
    "    fav_place_dict = {'Name' : name,\n",
    "                     'Fav Place' : fav_place}\n",
    "    return fav_place_dict"
   ]
  },
  {
   "cell_type": "code",
   "execution_count": 7,
   "metadata": {
    "collapsed": false
   },
   "outputs": [
    {
     "data": {
      "text/plain": [
       "{'Fav Place': 'Banglore', 'Name': 'Alexa'}"
      ]
     },
     "execution_count": 7,
     "metadata": {},
     "output_type": "execute_result"
    }
   ],
   "source": [
    "my_fav_places('Alexa','Banglore')"
   ]
  },
  {
   "cell_type": "markdown",
   "metadata": {},
   "source": [
    "## While loop and function"
   ]
  },
  {
   "cell_type": "code",
   "execution_count": 25,
   "metadata": {
    "collapsed": false
   },
   "outputs": [
    {
     "name": "stdout",
     "output_type": "stream",
     "text": [
      "enter no to cancel anytime\n",
      "Enter your friend namealexa\n",
      "Enter Alexa fav place.bagnlore\n",
      "Enter your friend nameshaan\n",
      "Enter Shaan fav place.lucknow\n",
      "Enter your friend namegopal\n",
      "Enter Gopal fav place.patna\n",
      "Enter your friend nameram\n",
      "Enter Ram fav place.delhi\n",
      "Enter your friend nameno\n"
     ]
    },
    {
     "data": {
      "text/plain": [
       "{'Alexa': 'Bagnlore', 'Gopal': 'Patna', 'Ram': 'Delhi', 'Shaan': 'Lucknow'}"
      ]
     },
     "execution_count": 25,
     "metadata": {},
     "output_type": "execute_result"
    }
   ],
   "source": [
    "fav_place_dict = {}\n",
    "def people_fav_places(name, place):\n",
    "    fav_place_dict[name] = place\n",
    "    \n",
    "print('enter no to cancel anytime')\n",
    "while True:\n",
    "        name = input('Enter your friend name')\n",
    "        if name == 'no':\n",
    "            break\n",
    "        \n",
    "        place = input('Enter '+name.title()+ ' fav place.')\n",
    "        if place == 'No':\n",
    "            break\n",
    "        \n",
    "        people_fav_places(name.title(), place.title())\n",
    "        \n",
    "fav_place_dict"
   ]
  },
  {
   "cell_type": "code",
   "execution_count": 26,
   "metadata": {
    "collapsed": false
   },
   "outputs": [
    {
     "data": {
      "text/plain": [
       "{'Alexa': 'Bagnlore', 'Gopal': 'Patna', 'Ram': 'Delhi', 'Shaan': 'Lucknow'}"
      ]
     },
     "execution_count": 26,
     "metadata": {},
     "output_type": "execute_result"
    }
   ],
   "source": [
    "fav_place_dict"
   ]
  },
  {
   "cell_type": "markdown",
   "metadata": {},
   "source": [
    "# List in function"
   ]
  },
  {
   "cell_type": "code",
   "execution_count": 27,
   "metadata": {
    "collapsed": true
   },
   "outputs": [],
   "source": [
    "def print_name(name):\n",
    "    print('Name is '+name.title())"
   ]
  },
  {
   "cell_type": "code",
   "execution_count": 28,
   "metadata": {
    "collapsed": false
   },
   "outputs": [
    {
     "name": "stdout",
     "output_type": "stream",
     "text": [
      "Name is Shaan\n"
     ]
    }
   ],
   "source": [
    "print_name('Shaan')"
   ]
  },
  {
   "cell_type": "code",
   "execution_count": 29,
   "metadata": {
    "collapsed": false
   },
   "outputs": [
    {
     "name": "stdout",
     "output_type": "stream",
     "text": [
      "Name is Aftab\n"
     ]
    }
   ],
   "source": [
    "print_name('Aftab')"
   ]
  },
  {
   "cell_type": "code",
   "execution_count": 30,
   "metadata": {
    "collapsed": false
   },
   "outputs": [
    {
     "name": "stdout",
     "output_type": "stream",
     "text": [
      "Name is Ram\n"
     ]
    }
   ],
   "source": [
    "print_name('Ram')"
   ]
  },
  {
   "cell_type": "code",
   "execution_count": 32,
   "metadata": {
    "collapsed": false
   },
   "outputs": [
    {
     "ename": "AttributeError",
     "evalue": "'list' object has no attribute 'title'",
     "output_type": "error",
     "traceback": [
      "\u001b[1;31m---------------------------------------------------------------------------\u001b[0m",
      "\u001b[1;31mAttributeError\u001b[0m                            Traceback (most recent call last)",
      "\u001b[1;32m<ipython-input-32-8c3af7201b7c>\u001b[0m in \u001b[0;36m<module>\u001b[1;34m()\u001b[0m\n\u001b[1;32m----> 1\u001b[1;33m \u001b[0mprint_name\u001b[0m\u001b[1;33m(\u001b[0m\u001b[1;33m[\u001b[0m\u001b[1;34m'shaan'\u001b[0m\u001b[1;33m,\u001b[0m\u001b[1;34m'aftab'\u001b[0m\u001b[1;33m,\u001b[0m\u001b[1;34m'ram'\u001b[0m\u001b[1;33m]\u001b[0m\u001b[1;33m)\u001b[0m\u001b[1;33m\u001b[0m\u001b[0m\n\u001b[0m",
      "\u001b[1;32m<ipython-input-27-7ae0d936ee4e>\u001b[0m in \u001b[0;36mprint_name\u001b[1;34m(name)\u001b[0m\n\u001b[0;32m      1\u001b[0m \u001b[1;32mdef\u001b[0m \u001b[0mprint_name\u001b[0m\u001b[1;33m(\u001b[0m\u001b[0mname\u001b[0m\u001b[1;33m)\u001b[0m\u001b[1;33m:\u001b[0m\u001b[1;33m\u001b[0m\u001b[0m\n\u001b[1;32m----> 2\u001b[1;33m     \u001b[0mprint\u001b[0m\u001b[1;33m(\u001b[0m\u001b[1;34m'Name is '\u001b[0m\u001b[1;33m+\u001b[0m\u001b[0mname\u001b[0m\u001b[1;33m.\u001b[0m\u001b[0mtitle\u001b[0m\u001b[1;33m(\u001b[0m\u001b[1;33m)\u001b[0m\u001b[1;33m)\u001b[0m\u001b[1;33m\u001b[0m\u001b[0m\n\u001b[0m",
      "\u001b[1;31mAttributeError\u001b[0m: 'list' object has no attribute 'title'"
     ]
    }
   ],
   "source": [
    "print_name(['shaan','aftab','ram'])"
   ]
  },
  {
   "cell_type": "code",
   "execution_count": 35,
   "metadata": {
    "collapsed": true
   },
   "outputs": [],
   "source": [
    "def print_name(name):\n",
    "    for item in name:\n",
    "        print('Name is '+item.title())"
   ]
  },
  {
   "cell_type": "code",
   "execution_count": 36,
   "metadata": {
    "collapsed": false
   },
   "outputs": [
    {
     "name": "stdout",
     "output_type": "stream",
     "text": [
      "Name is Shaan\n",
      "Name is Aftab\n",
      "Name is Ram\n"
     ]
    }
   ],
   "source": [
    "print_name(['shaan','aftab','ram'])"
   ]
  },
  {
   "cell_type": "markdown",
   "metadata": {},
   "source": [
    "# optional parameter in function"
   ]
  },
  {
   "cell_type": "code",
   "execution_count": 53,
   "metadata": {
    "collapsed": true
   },
   "outputs": [],
   "source": [
    "def info_user(name,age,gender,address,phone=''):\n",
    "    print('User name is '+name.title())\n",
    "    print('User age is '+str(age))\n",
    "    print('User gender is '+gender.title())\n",
    "    print('User address is '+address)\n",
    "    if len(phone) != 0:\n",
    "        while len(phone) != 10:\n",
    "            print('No. Number must be 10 digit.')\n",
    "            phone = input()\n",
    "        print('Yayy! User phone number is '+phone)"
   ]
  },
  {
   "cell_type": "code",
   "execution_count": 48,
   "metadata": {
    "collapsed": false
   },
   "outputs": [
    {
     "name": "stdout",
     "output_type": "stream",
     "text": [
      "User name is Alexa\n",
      "User age is 21\n",
      "User gender is Male\n",
      "User address is banglore\n"
     ]
    }
   ],
   "source": [
    "info_user('alexa',21,'male','banglore')"
   ]
  },
  {
   "cell_type": "code",
   "execution_count": 49,
   "metadata": {
    "collapsed": false
   },
   "outputs": [
    {
     "name": "stdout",
     "output_type": "stream",
     "text": [
      "User name is Alexa\n",
      "User age is 21\n",
      "User gender is Male\n",
      "User address is banglore\n",
      "User phone number is 1234567890\n"
     ]
    }
   ],
   "source": [
    "info_user('alexa',21,'male','banglore','1234567890')"
   ]
  },
  {
   "cell_type": "code",
   "execution_count": 50,
   "metadata": {
    "collapsed": false
   },
   "outputs": [
    {
     "name": "stdout",
     "output_type": "stream",
     "text": [
      "User name is Alexa\n",
      "User age is 21\n",
      "User gender is Male\n",
      "User address is banglore\n",
      "enter 10 digit phone number\n",
      "1234568\n",
      "enter 10 digit phone number\n",
      "45284\n",
      "enter 10 digit phone number\n",
      "4596\n",
      "enter 10 digit phone number\n",
      "1234567890\n",
      "User phone number is 1234567890\n"
     ]
    }
   ],
   "source": [
    "info_user('alexa',21,'male','banglore','123456789')"
   ]
  },
  {
   "cell_type": "code",
   "execution_count": 51,
   "metadata": {
    "collapsed": false
   },
   "outputs": [
    {
     "name": "stdout",
     "output_type": "stream",
     "text": [
      "User name is Doll\n",
      "User age is 20\n",
      "User gender is Female\n",
      "User address is banglore\n"
     ]
    }
   ],
   "source": [
    "info_user('doll',20,'female','banglore')"
   ]
  },
  {
   "cell_type": "code",
   "execution_count": 54,
   "metadata": {
    "collapsed": false
   },
   "outputs": [
    {
     "name": "stdout",
     "output_type": "stream",
     "text": [
      "User name is Doll\n",
      "User age is 20\n",
      "User gender is Female\n",
      "User address is banglore\n",
      "No. Number must be 10 digit.\n",
      "9122222222\n",
      "Yayy! User phone number is 9122222222\n"
     ]
    }
   ],
   "source": [
    "info_user('doll',20,'female','banglore','5821475')"
   ]
  },
  {
   "cell_type": "markdown",
   "metadata": {},
   "source": [
    "# Modify the list"
   ]
  },
  {
   "cell_type": "code",
   "execution_count": 63,
   "metadata": {
    "collapsed": true
   },
   "outputs": [],
   "source": [
    "def admission_in_school(not_admissioned, taken_admission):\n",
    "    while not_admissioned:\n",
    "        \n",
    "        name = not_admissioned.pop()\n",
    "        print(name.title()+' has taken admission.')\n",
    "        taken_admission.append(name)\n",
    "    return taken_admission"
   ]
  },
  {
   "cell_type": "code",
   "execution_count": 64,
   "metadata": {
    "collapsed": false
   },
   "outputs": [
    {
     "name": "stdout",
     "output_type": "stream",
     "text": [
      "Siri has taken admission.\n",
      "Alexa has taken admission.\n",
      "Gopal has taken admission.\n",
      "Ram has taken admission.\n"
     ]
    },
    {
     "data": {
      "text/plain": [
       "['darshi', 'shaan', 'siri', 'alexa', 'gopal', 'ram']"
      ]
     },
     "execution_count": 64,
     "metadata": {},
     "output_type": "execute_result"
    }
   ],
   "source": [
    "admission_in_school(['ram','gopal','alexa','siri'],['darshi','shaan'])"
   ]
  },
  {
   "cell_type": "code",
   "execution_count": 66,
   "metadata": {
    "collapsed": false
   },
   "outputs": [
    {
     "name": "stdout",
     "output_type": "stream",
     "text": [
      "Siri has taken admission.\n",
      "Alexa has taken admission.\n",
      "Gopal has taken admission.\n",
      "Ram has taken admission.\n"
     ]
    },
    {
     "data": {
      "text/plain": [
       "['darshi', 'shaan', 'siri', 'alexa', 'gopal', 'ram']"
      ]
     },
     "execution_count": 66,
     "metadata": {},
     "output_type": "execute_result"
    }
   ],
   "source": [
    "need_admission = ['ram','gopal','alexa','siri']\n",
    "admission_in_school(need_admission,['darshi','shaan'])"
   ]
  },
  {
   "cell_type": "code",
   "execution_count": 74,
   "metadata": {
    "collapsed": false
   },
   "outputs": [
    {
     "data": {
      "text/plain": [
       "[]"
      ]
     },
     "execution_count": 74,
     "metadata": {},
     "output_type": "execute_result"
    }
   ],
   "source": [
    "need_admission"
   ]
  },
  {
   "cell_type": "code",
   "execution_count": 89,
   "metadata": {
    "collapsed": true
   },
   "outputs": [],
   "source": [
    "def admission_in_school(not_admissioned, taken_admission):\n",
    "    copy_not_admissioned = not_admissioned[:]\n",
    "    print(copy_not_admissioned)\n",
    "    while copy_not_admissioned:\n",
    "        name = copy_not_admissioned.pop()\n",
    "        print(name.title()+' has taken admission.')\n",
    "        taken_admission.append(name)\n",
    "    return taken_admission"
   ]
  },
  {
   "cell_type": "code",
   "execution_count": 90,
   "metadata": {
    "collapsed": false
   },
   "outputs": [
    {
     "name": "stdout",
     "output_type": "stream",
     "text": [
      "['ram', 'gopal', 'alexa', 'siri']\n",
      "Siri has taken admission.\n",
      "Alexa has taken admission.\n",
      "Gopal has taken admission.\n",
      "Ram has taken admission.\n"
     ]
    },
    {
     "data": {
      "text/plain": [
       "['darshi', 'shaan', 'siri', 'alexa', 'gopal', 'ram']"
      ]
     },
     "execution_count": 90,
     "metadata": {},
     "output_type": "execute_result"
    }
   ],
   "source": [
    "need_admission = ['ram','gopal','alexa','siri']\n",
    "admission_in_school(need_admission,['darshi','shaan'])"
   ]
  },
  {
   "cell_type": "code",
   "execution_count": 91,
   "metadata": {
    "collapsed": false
   },
   "outputs": [
    {
     "data": {
      "text/plain": [
       "['ram', 'gopal', 'alexa', 'siri']"
      ]
     },
     "execution_count": 91,
     "metadata": {},
     "output_type": "execute_result"
    }
   ],
   "source": [
    "need_admission"
   ]
  },
  {
   "cell_type": "markdown",
   "metadata": {},
   "source": [
    "# Unlimited parameters"
   ]
  },
  {
   "cell_type": "code",
   "execution_count": 103,
   "metadata": {
    "collapsed": true
   },
   "outputs": [],
   "source": [
    "def unlimited_print(*name):\n",
    "    print(name)"
   ]
  },
  {
   "cell_type": "code",
   "execution_count": 105,
   "metadata": {
    "collapsed": false
   },
   "outputs": [
    {
     "name": "stdout",
     "output_type": "stream",
     "text": [
      "('alexa', 'siri', 'shaan', 'rahul', 'gopi')\n"
     ]
    }
   ],
   "source": [
    "unlimited_print('alexa','siri','shaan','rahul','gopi')"
   ]
  },
  {
   "cell_type": "code",
   "execution_count": 122,
   "metadata": {
    "collapsed": true
   },
   "outputs": [],
   "source": [
    "def my_fav_people(most_fav, *fav_people):\n",
    "    print('My most favorite is '+most_fav)\n",
    "    print('\\n\\n')\n",
    "    print('My favorite peoples are: ')\n",
    "    for people in fav_people:\n",
    "        print(people.title())"
   ]
  },
  {
   "cell_type": "code",
   "execution_count": 123,
   "metadata": {
    "collapsed": false
   },
   "outputs": [
    {
     "name": "stdout",
     "output_type": "stream",
     "text": [
      "My most favorite is Mine\n",
      "\n",
      "\n",
      "\n",
      "My favorite peoples are: \n",
      "Alexa\n",
      "Siri\n",
      "Rahul\n",
      "Gopi\n"
     ]
    }
   ],
   "source": [
    "my_fav_people('Mine','alexa','siri','rahul','gopi')"
   ]
  },
  {
   "cell_type": "code",
   "execution_count": 124,
   "metadata": {
    "collapsed": true
   },
   "outputs": [],
   "source": [
    "def user_info(name, age, **rest_info):\n",
    "    print('User name is '+name.title())\n",
    "    print('User age is '+str(age))\n",
    "    empty_dict = {}\n",
    "    for key, value in rest_info.items():\n",
    "        empty_dict[key] = value\n",
    "    for key, value in empty_dict.items():\n",
    "        print('User '+key+' is '+value)"
   ]
  },
  {
   "cell_type": "code",
   "execution_count": 126,
   "metadata": {
    "collapsed": false
   },
   "outputs": [
    {
     "name": "stdout",
     "output_type": "stream",
     "text": [
      "User name is Alexa\n",
      "User age is 21\n",
      "User phone is xyz\n",
      "User gender is male\n",
      "User address is banglore\n"
     ]
    }
   ],
   "source": [
    "user_info('alexa',21,address='banglore',phone='xyz',gender='male')"
   ]
  },
  {
   "cell_type": "code",
   "execution_count": 128,
   "metadata": {
    "collapsed": false
   },
   "outputs": [
    {
     "name": "stdout",
     "output_type": "stream",
     "text": [
      "User name is Alexa\n",
      "User age is 21\n",
      "User phone is xyz\n",
      "User address is banglore\n",
      "User gender is male\n",
      "User favorite_lang is python\n"
     ]
    }
   ],
   "source": [
    "user_info('alexa',21,address='banglore',phone='xyz',gender='male',favorite_lang = 'python')"
   ]
  },
  {
   "cell_type": "code",
   "execution_count": 130,
   "metadata": {
    "collapsed": false
   },
   "outputs": [
    {
     "name": "stdout",
     "output_type": "stream",
     "text": [
      "User name is Alexa\n",
      "User age is 21\n",
      "User phone is xyz\n",
      "User favoritelang is python\n",
      "User gender is male\n",
      "User address is banglore\n"
     ]
    }
   ],
   "source": [
    "user_info('alexa',21,address='banglore',phone='xyz',gender='male',favoritelang = 'python')"
   ]
  },
  {
   "cell_type": "markdown",
   "metadata": {},
   "source": [
    "# Thank you"
   ]
  }
 ],
 "metadata": {
  "kernelspec": {
   "display_name": "Python 3",
   "language": "python",
   "name": "python3"
  },
  "language_info": {
   "codemirror_mode": {
    "name": "ipython",
    "version": 3
   },
   "file_extension": ".py",
   "mimetype": "text/x-python",
   "name": "python",
   "nbconvert_exporter": "python",
   "pygments_lexer": "ipython3",
   "version": "3.5.2"
  }
 },
 "nbformat": 4,
 "nbformat_minor": 2
}
