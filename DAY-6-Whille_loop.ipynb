{
 "cells": [
  {
   "cell_type": "markdown",
   "metadata": {},
   "source": [
    "## While loop\n",
    "### use to repeat a block of code till the condition is true."
   ]
  },
  {
   "cell_type": "markdown",
   "metadata": {},
   "source": [
    "while conditional_statements:\n",
    "    \n",
    "    do something"
   ]
  },
  {
   "cell_type": "code",
   "execution_count": 1,
   "metadata": {
    "collapsed": false
   },
   "outputs": [
    {
     "name": "stdout",
     "output_type": "stream",
     "text": [
      "10\n",
      "9\n",
      "8\n",
      "7\n",
      "6\n",
      "5\n",
      "4\n",
      "3\n",
      "2\n",
      "1\n"
     ]
    }
   ],
   "source": [
    "i=10\n",
    "while i>0:\n",
    "    print(i)\n",
    "    i -= 1"
   ]
  },
  {
   "cell_type": "code",
   "execution_count": 1,
   "metadata": {
    "collapsed": false
   },
   "outputs": [
    {
     "name": "stdout",
     "output_type": "stream",
     "text": [
      "it will run unimited number of times.\n"
     ]
    }
   ],
   "source": [
    "while True:\n",
    "    print('it will run unimited number of times.')\n",
    "    break"
   ]
  },
  {
   "cell_type": "code",
   "execution_count": 2,
   "metadata": {
    "collapsed": false
   },
   "outputs": [
    {
     "name": "stdout",
     "output_type": "stream",
     "text": [
      "10\n",
      "9\n",
      "8\n",
      "7\n",
      "6\n",
      "5\n",
      "4\n",
      "3\n",
      "2\n",
      "1\n"
     ]
    }
   ],
   "source": [
    "i=10\n",
    "while True:\n",
    "    print(i)\n",
    "    i -= 1\n",
    "    if i <= 0:\n",
    "        break"
   ]
  },
  {
   "cell_type": "code",
   "execution_count": 1,
   "metadata": {
    "collapsed": false
   },
   "outputs": [
    {
     "name": "stdout",
     "output_type": "stream",
     "text": [
      "5050\n"
     ]
    }
   ],
   "source": [
    "i=1\n",
    "sum = 0\n",
    "while i <= 100:\n",
    "    sum += i\n",
    "    i += 1\n",
    "print(sum)"
   ]
  },
  {
   "cell_type": "markdown",
   "metadata": {},
   "source": [
    "## while with else"
   ]
  },
  {
   "cell_type": "code",
   "execution_count": 4,
   "metadata": {
    "collapsed": false
   },
   "outputs": [
    {
     "name": "stdout",
     "output_type": "stream",
     "text": [
      "10 is less than 10 but greater than 5\n",
      "9 is less than 10 but greater than 5\n",
      "8 is less than 10 but greater than 5\n",
      "7 is less than 10 but greater than 5\n",
      "6 is less than 10 but greater than 5\n",
      "5 is less than 10 but greater than 5\n",
      "That's all the number between 5 and 10.\n"
     ]
    }
   ],
   "source": [
    "num = 10\n",
    "while num >= 5:\n",
    "    print(str(num) + ' is less than 10 but greater than 5')\n",
    "    num -= 1\n",
    "else:\n",
    "    print(\"That's all the number between 5 and 10.\")"
   ]
  },
  {
   "cell_type": "code",
   "execution_count": 5,
   "metadata": {
    "collapsed": false
   },
   "outputs": [
    {
     "name": "stdout",
     "output_type": "stream",
     "text": [
      "Score is 0\n",
      "Score is 1\n",
      "Score is 2\n",
      "Score is 3\n",
      "Score is 4\n",
      "Score is 5\n",
      "Score is 6\n",
      "Score is 7\n",
      "Score is 8\n",
      "Score is 9\n",
      "Score is 10\n",
      "Score is 11\n",
      "Score is 12\n",
      "Score is 13\n",
      "Score is 14\n",
      "Score is 15\n",
      "Score is 16\n",
      "Score is 17\n",
      "Score is 18\n",
      "Score is 19\n",
      "Score is 20\n",
      "Score is 21\n",
      "Score is 22\n",
      "Score is 23\n",
      "Score is 24\n",
      "Score is 25\n",
      "Score is 26\n",
      "Score is 27\n",
      "Score is 28\n",
      "Score is 29\n",
      "Score is 30\n",
      "Score is 31\n",
      "Score is 32\n",
      "Score is 33\n",
      "Score is 34\n",
      "Score is 35\n",
      "Score is 36\n",
      "Score is 37\n",
      "Score is 38\n",
      "Score is 39\n",
      "Score is 40\n",
      "Score is 41\n",
      "Score is 42\n",
      "Score is 43\n",
      "Score is 44\n",
      "Score is 45\n",
      "Score is 46\n",
      "Score is 47\n",
      "Score is 48\n",
      "Score is 49\n",
      "Score is 50\n",
      "Score is 51\n",
      "Score is 52\n",
      "Score is 53\n",
      "Score is 54\n",
      "Score is 55\n",
      "Score is 56\n",
      "Score is 57\n",
      "Score is 58\n",
      "Score is 59\n",
      "Score is 60\n",
      "Score is 61\n",
      "Score is 62\n",
      "Score is 63\n",
      "Score is 64\n",
      "Score is 65\n",
      "Score is 66\n",
      "Score is 67\n",
      "Score is 68\n",
      "Score is 69\n",
      "Score is 70\n",
      "Score is 71\n",
      "Score is 72\n",
      "Score is 73\n",
      "Score is 74\n",
      "Score is 75\n",
      "Score is 76\n",
      "Score is 77\n",
      "Score is 78\n",
      "Score is 79\n",
      "Score is 80\n",
      "Score is 81\n",
      "Score is 82\n",
      "Score is 83\n",
      "Score is 84\n",
      "Score is 85\n",
      "Score is 86\n",
      "Score is 87\n",
      "Score is 88\n",
      "Score is 89\n",
      "Score is 90\n",
      "Score is 91\n",
      "Score is 92\n",
      "Score is 93\n",
      "Score is 94\n",
      "Score is 95\n",
      "Score is 96\n",
      "Score is 97\n",
      "Score is 98\n",
      "Score is 99\n",
      "Ok! you scored 100. Wooow.\n"
     ]
    }
   ],
   "source": [
    "score = 0\n",
    "while score <100 :\n",
    "    print('Score is ' + str(score))\n",
    "    score += 1\n",
    "else:\n",
    "    print('Ok! you scored 100. Wooow.')"
   ]
  },
  {
   "cell_type": "code",
   "execution_count": null,
   "metadata": {
    "collapsed": true
   },
   "outputs": [],
   "source": []
  }
 ],
 "metadata": {
  "kernelspec": {
   "display_name": "Python 3",
   "language": "python",
   "name": "python3"
  },
  "language_info": {
   "codemirror_mode": {
    "name": "ipython",
    "version": 3
   },
   "file_extension": ".py",
   "mimetype": "text/x-python",
   "name": "python",
   "nbconvert_exporter": "python",
   "pygments_lexer": "ipython3",
   "version": "3.5.2"
  }
 },
 "nbformat": 4,
 "nbformat_minor": 2
}
