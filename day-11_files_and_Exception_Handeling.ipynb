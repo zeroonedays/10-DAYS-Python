{
 "cells": [
  {
   "cell_type": "markdown",
   "metadata": {},
   "source": [
    "# Read the file"
   ]
  },
  {
   "cell_type": "code",
   "execution_count": 2,
   "metadata": {
    "collapsed": false
   },
   "outputs": [
    {
     "name": "stdout",
     "output_type": "stream",
     "text": [
      "Alexa\n",
      "Kavya\n",
      "Rahul\n",
      "Shaan\n"
     ]
    }
   ],
   "source": [
    "with open('friendname.txt') as my_friends:\n",
    "    read_file = my_friends.read()\n",
    "    print(read_file.title())"
   ]
  },
  {
   "cell_type": "markdown",
   "metadata": {},
   "source": [
    "# Read the file from any location"
   ]
  },
  {
   "cell_type": "code",
   "execution_count": 5,
   "metadata": {
    "collapsed": false
   },
   "outputs": [
    {
     "name": "stdout",
     "output_type": "stream",
     "text": [
      "My favortite language are :\n",
      "Python\n",
      "Java\n",
      "C\n",
      "C++\n",
      "Javascript\n"
     ]
    }
   ],
   "source": [
    "with open('E:/tempfile/favlang.txt') as my_friends:\n",
    "    read_file2 = my_friends.read()\n",
    "    print('My favortite language are :')\n",
    "    print(read_file2.title())"
   ]
  },
  {
   "cell_type": "code",
   "execution_count": 6,
   "metadata": {
    "collapsed": false
   },
   "outputs": [
    {
     "name": "stdout",
     "output_type": "stream",
     "text": [
      "My favortite language are :\n",
      "Python\n",
      "Java\n",
      "C\n",
      "C++\n",
      "Javascript\n"
     ]
    }
   ],
   "source": [
    "file_path = 'E:/tempfile/favlang.txt'\n",
    "with open(file_path) as my_friends:\n",
    "    read_file2 = my_friends.read()\n",
    "    print('My favortite language are :')\n",
    "    print(read_file2.title())"
   ]
  },
  {
   "cell_type": "markdown",
   "metadata": {},
   "source": [
    "## Reading by line by line"
   ]
  },
  {
   "cell_type": "code",
   "execution_count": 19,
   "metadata": {
    "collapsed": false
   },
   "outputs": [
    {
     "name": "stdout",
     "output_type": "stream",
     "text": [
      "python\n",
      "\n",
      "java\n",
      "\n",
      "c\n",
      "\n",
      "C++\n",
      "\n",
      "Javascript\n"
     ]
    }
   ],
   "source": [
    "file_path = 'E:/tempfile/favlang.txt'\n",
    "with open(file_path) as my_friends:\n",
    "    for line in my_friends:\n",
    "        print(line)"
   ]
  },
  {
   "cell_type": "code",
   "execution_count": 25,
   "metadata": {
    "collapsed": false
   },
   "outputs": [
    {
     "name": "stdout",
     "output_type": "stream",
     "text": [
      "python\n",
      "\n",
      "java\n",
      "\n",
      "c\n",
      "\n",
      "C++\n",
      "\n",
      "Javascript\n"
     ]
    }
   ],
   "source": [
    "file_path = 'E:/tempfile/favlang.txt'\n",
    "with open(file_path) as my_friends:\n",
    "    multiple_lines = my_friends.readlines()\n",
    "for line in multiple_lines:\n",
    "    print(line)"
   ]
  },
  {
   "cell_type": "code",
   "execution_count": 32,
   "metadata": {
    "collapsed": false
   },
   "outputs": [
    {
     "name": "stdout",
     "output_type": "stream",
     "text": [
      "python java c C++ Javascript \n"
     ]
    }
   ],
   "source": [
    "file_path = 'E:/tempfile/favlang.txt'\n",
    "with open(file_path) as my_friends:\n",
    "    multiple_lines = my_friends.readlines()\n",
    "my_string = ''\n",
    "for line in multiple_lines:\n",
    "    my_string += line.strip() + ' '\n",
    "print(my_string)"
   ]
  },
  {
   "cell_type": "code",
   "execution_count": 36,
   "metadata": {
    "collapsed": false
   },
   "outputs": [
    {
     "name": "stdout",
     "output_type": "stream",
     "text": [
      "Python is my favortie language!\n",
      "\n",
      "java\n",
      "\n",
      "c\n",
      "\n",
      "C++\n",
      "\n",
      "Javascript\n"
     ]
    }
   ],
   "source": [
    "file_path = 'E:/tempfile/favlang.txt'\n",
    "with open(file_path) as my_friends:\n",
    "    multiple_lines = my_friends.readlines()\n",
    "my_string = ''\n",
    "for line in multiple_lines:\n",
    "    if line.strip() == 'python':\n",
    "        print('Python is my favortie language!')\n",
    "        print()\n",
    "        continue\n",
    "    print(line)"
   ]
  },
  {
   "cell_type": "markdown",
   "metadata": {},
   "source": [
    "#  Creating a file"
   ]
  },
  {
   "cell_type": "code",
   "execution_count": 37,
   "metadata": {
    "collapsed": true
   },
   "outputs": [],
   "source": [
    "with open('myfavfood.txt','w') as file_object:\n",
    "    file_object.write('Pizza is my only favorite food.')"
   ]
  },
  {
   "cell_type": "code",
   "execution_count": 40,
   "metadata": {
    "collapsed": true
   },
   "outputs": [],
   "source": [
    "with open('myfavfoodlist.txt','w') as file_object:\n",
    "    file_object.write('Heh. I was kidding my favorite food are :\\n')\n",
    "    file_object.write('Pizza\\n')\n",
    "    file_object.write('Biryani\\n')\n",
    "    file_object.write('Chicken\\n')"
   ]
  },
  {
   "cell_type": "markdown",
   "metadata": {},
   "source": [
    "# Appending the file"
   ]
  },
  {
   "cell_type": "code",
   "execution_count": 42,
   "metadata": {
    "collapsed": true
   },
   "outputs": [],
   "source": [
    "with open('myfavfoodlist.txt','a') as file_object:\n",
    "    file_object.write('Burger\\n')\n",
    "    file_object.write('Chclate\\n')\n",
    "    file_object.write('Ice cream\\n')"
   ]
  },
  {
   "cell_type": "code",
   "execution_count": 43,
   "metadata": {
    "collapsed": false
   },
   "outputs": [
    {
     "name": "stdout",
     "output_type": "stream",
     "text": [
      "Heh. I was kidding my favorite food are :\n",
      "Pizza\n",
      "Biryani\n",
      "Chicken\n",
      "BurgerChclateIce creamBurger\n",
      "Chclate\n",
      "Ice cream\n",
      "\n"
     ]
    }
   ],
   "source": [
    "with open('myfavfoodlist.txt') as file_object:\n",
    "    fav_food = file_object.read()\n",
    "    print(fav_food)"
   ]
  },
  {
   "cell_type": "code",
   "execution_count": 44,
   "metadata": {
    "collapsed": false
   },
   "outputs": [
    {
     "ename": "FileNotFoundError",
     "evalue": "[Errno 2] No such file or directory: 'myfavfoodlists.txt'",
     "output_type": "error",
     "traceback": [
      "\u001b[1;31m---------------------------------------------------------------------------\u001b[0m",
      "\u001b[1;31mFileNotFoundError\u001b[0m                         Traceback (most recent call last)",
      "\u001b[1;32m<ipython-input-44-223def964ebf>\u001b[0m in \u001b[0;36m<module>\u001b[1;34m()\u001b[0m\n\u001b[1;32m----> 1\u001b[1;33m \u001b[1;32mwith\u001b[0m \u001b[0mopen\u001b[0m\u001b[1;33m(\u001b[0m\u001b[1;34m'myfavfoodlists.txt'\u001b[0m\u001b[1;33m)\u001b[0m \u001b[1;32mas\u001b[0m \u001b[0mfile_object\u001b[0m\u001b[1;33m:\u001b[0m\u001b[1;33m\u001b[0m\u001b[0m\n\u001b[0m\u001b[0;32m      2\u001b[0m     \u001b[0mfav_food\u001b[0m \u001b[1;33m=\u001b[0m \u001b[0mfile_object\u001b[0m\u001b[1;33m.\u001b[0m\u001b[0mread\u001b[0m\u001b[1;33m(\u001b[0m\u001b[1;33m)\u001b[0m\u001b[1;33m\u001b[0m\u001b[0m\n\u001b[0;32m      3\u001b[0m     \u001b[0mprint\u001b[0m\u001b[1;33m(\u001b[0m\u001b[0mfav_food\u001b[0m\u001b[1;33m)\u001b[0m\u001b[1;33m\u001b[0m\u001b[0m\n",
      "\u001b[1;31mFileNotFoundError\u001b[0m: [Errno 2] No such file or directory: 'myfavfoodlists.txt'"
     ]
    }
   ],
   "source": [
    "with open('myfavfoodlists.txt') as file_object:\n",
    "    fav_food = file_object.read()\n",
    "    print(fav_food)"
   ]
  },
  {
   "cell_type": "markdown",
   "metadata": {},
   "source": [
    "# Exceptions handeling"
   ]
  },
  {
   "cell_type": "code",
   "execution_count": 45,
   "metadata": {
    "collapsed": false
   },
   "outputs": [
    {
     "ename": "ZeroDivisionError",
     "evalue": "division by zero",
     "output_type": "error",
     "traceback": [
      "\u001b[1;31m---------------------------------------------------------------------------\u001b[0m",
      "\u001b[1;31mZeroDivisionError\u001b[0m                         Traceback (most recent call last)",
      "\u001b[1;32m<ipython-input-45-ee47d2b50375>\u001b[0m in \u001b[0;36m<module>\u001b[1;34m()\u001b[0m\n\u001b[1;32m----> 1\u001b[1;33m \u001b[1;36m12\u001b[0m\u001b[1;33m/\u001b[0m\u001b[1;36m0\u001b[0m\u001b[1;33m\u001b[0m\u001b[0m\n\u001b[0m",
      "\u001b[1;31mZeroDivisionError\u001b[0m: division by zero"
     ]
    }
   ],
   "source": [
    "12/0"
   ]
  },
  {
   "cell_type": "code",
   "execution_count": 47,
   "metadata": {
    "collapsed": false
   },
   "outputs": [
    {
     "name": "stdout",
     "output_type": "stream",
     "text": [
      "You can not divide by zero!\n"
     ]
    }
   ],
   "source": [
    "try : \n",
    "    print(5./0)\n",
    "except ZeroDivisionError:\n",
    "    print('You can not divide by zero!')"
   ]
  },
  {
   "cell_type": "code",
   "execution_count": 49,
   "metadata": {
    "collapsed": false
   },
   "outputs": [
    {
     "name": "stdout",
     "output_type": "stream",
     "text": [
      "oops sorry! The file is missing!\n"
     ]
    }
   ],
   "source": [
    "try :\n",
    "    with open('myfavfoodlists.txt') as file_object:\n",
    "        fav_food = file_object.read()\n",
    "        print(fav_food)\n",
    "except FileNotFoundError:\n",
    "    print('oops sorry! The file is missing!')"
   ]
  },
  {
   "cell_type": "code",
   "execution_count": 50,
   "metadata": {
    "collapsed": false,
    "scrolled": true
   },
   "outputs": [
    {
     "name": "stdout",
     "output_type": "stream",
     "text": [
      "Give me two number and I'll divide them.\n",
      "Enter no anytime to cancel\n",
      "Enter the first number12\n",
      "Enter the second number2\n",
      "6.0\n",
      "Enter the first number5\n",
      "Enter the second number0\n"
     ]
    },
    {
     "ename": "ZeroDivisionError",
     "evalue": "division by zero",
     "output_type": "error",
     "traceback": [
      "\u001b[1;31m---------------------------------------------------------------------------\u001b[0m",
      "\u001b[1;31mZeroDivisionError\u001b[0m                         Traceback (most recent call last)",
      "\u001b[1;32m<ipython-input-50-ca0b89838ef5>\u001b[0m in \u001b[0;36m<module>\u001b[1;34m()\u001b[0m\n\u001b[0;32m      9\u001b[0m     \u001b[1;32mif\u001b[0m \u001b[0msecond_number\u001b[0m \u001b[1;33m==\u001b[0m \u001b[1;34m'no'\u001b[0m\u001b[1;33m:\u001b[0m\u001b[1;33m\u001b[0m\u001b[0m\n\u001b[0;32m     10\u001b[0m         \u001b[1;32mbreak\u001b[0m\u001b[1;33m\u001b[0m\u001b[0m\n\u001b[1;32m---> 11\u001b[1;33m     \u001b[0manswer\u001b[0m \u001b[1;33m=\u001b[0m \u001b[0mfirst_number\u001b[0m \u001b[1;33m/\u001b[0m \u001b[0msecond_number\u001b[0m\u001b[1;33m\u001b[0m\u001b[0m\n\u001b[0m\u001b[0;32m     12\u001b[0m     \u001b[0mprint\u001b[0m\u001b[1;33m(\u001b[0m\u001b[0manswer\u001b[0m\u001b[1;33m)\u001b[0m\u001b[1;33m\u001b[0m\u001b[0m\n",
      "\u001b[1;31mZeroDivisionError\u001b[0m: division by zero"
     ]
    }
   ],
   "source": [
    "print(\"Give me two number and I'll divide them.\")\n",
    "print('Enter no anytime to cancel')\n",
    "while True :\n",
    "    first_number = int(input('Enter the first number'))\n",
    "    if first_number == 'no':\n",
    "        break\n",
    "        \n",
    "    second_number = int(input('Enter the second number'))\n",
    "    if second_number == 'no':\n",
    "        break\n",
    "    answer = first_number / second_number\n",
    "    print(answer)"
   ]
  },
  {
   "cell_type": "code",
   "execution_count": 53,
   "metadata": {
    "collapsed": false
   },
   "outputs": [
    {
     "name": "stdout",
     "output_type": "stream",
     "text": [
      "Give me two number and I'll divide them.\n",
      "Enter no anytime to cancel\n",
      "Enter the first number12\n",
      "Enter the second number2\n",
      "6.0\n",
      "Enter the first number5\n",
      "Enter the second number0\n",
      "Can't divide by zero. Sorry!\n",
      "6.0\n",
      "Enter the first numberno\n"
     ]
    }
   ],
   "source": [
    "print(\"Give me two number and I'll divide them.\")\n",
    "print('Enter no anytime to cancel')\n",
    "while True :\n",
    "    first_number = input('Enter the first number')\n",
    "    if first_number == 'no':\n",
    "        break\n",
    "        \n",
    "    second_number = input('Enter the second number')\n",
    "    if second_number == 'no':\n",
    "        break\n",
    "    try :\n",
    "        answer = int(first_number) / int(second_number)\n",
    "    except ZeroDivisionError:\n",
    "        print(\"Can't divide by zero. Sorry!\")\n",
    "    print(answer)"
   ]
  },
  {
   "cell_type": "markdown",
   "metadata": {},
   "source": [
    "# try except and else"
   ]
  },
  {
   "cell_type": "code",
   "execution_count": 54,
   "metadata": {
    "collapsed": false
   },
   "outputs": [
    {
     "name": "stdout",
     "output_type": "stream",
     "text": [
      "Give me two number and I'll divide them.\n",
      "Enter no anytime to cancel\n",
      "Enter the first number12\n",
      "Enter the second number2\n",
      "6.0\n",
      "Enter the first number5\n",
      "Enter the second number0\n",
      "Can't divide by zero. Sorry!\n",
      "Enter the first numberno\n"
     ]
    }
   ],
   "source": [
    "print(\"Give me two number and I'll divide them.\")\n",
    "print('Enter no anytime to cancel')\n",
    "while True :\n",
    "    first_number = input('Enter the first number')\n",
    "    if first_number == 'no':\n",
    "        break\n",
    "        \n",
    "    second_number = input('Enter the second number')\n",
    "    if second_number == 'no':\n",
    "        break\n",
    "    try :\n",
    "        answer = int(first_number) / int(second_number)\n",
    "    except ZeroDivisionError:\n",
    "        print(\"Can't divide by zero. Sorry!\")\n",
    "    else :\n",
    "        print(answer)"
   ]
  },
  {
   "cell_type": "markdown",
   "metadata": {},
   "source": [
    "# Split() method"
   ]
  },
  {
   "cell_type": "code",
   "execution_count": 58,
   "metadata": {
    "collapsed": false
   },
   "outputs": [
    {
     "data": {
      "text/plain": [
       "['Enter', 'the', 'second', 'number']"
      ]
     },
     "execution_count": 58,
     "metadata": {},
     "output_type": "execute_result"
    }
   ],
   "source": [
    "text = 'Enter the second number'\n",
    "list_words = text.split()\n",
    "list_words"
   ]
  },
  {
   "cell_type": "code",
   "execution_count": 59,
   "metadata": {
    "collapsed": false
   },
   "outputs": [
    {
     "data": {
      "text/plain": [
       "['pizza', 'biryani', 'chicken', 'ice cream']"
      ]
     },
     "execution_count": 59,
     "metadata": {},
     "output_type": "execute_result"
    }
   ],
   "source": [
    "text = 'pizza:biryani:chicken:ice cream'\n",
    "list_words = text.split(':')\n",
    "list_words"
   ]
  },
  {
   "cell_type": "code",
   "execution_count": 61,
   "metadata": {
    "collapsed": false
   },
   "outputs": [
    {
     "name": "stdout",
     "output_type": "stream",
     "text": [
      "The file contain 17 Word!\n"
     ]
    }
   ],
   "source": [
    "with open('myfavfoodlist.txt') as file_object:\n",
    "    fav_food = file_object.read().split()\n",
    "    print('The file contain '+str(len(fav_food))+' Word!')"
   ]
  },
  {
   "cell_type": "code",
   "execution_count": 80,
   "metadata": {
    "collapsed": true
   },
   "outputs": [],
   "source": [
    "def count_words(filename):\n",
    "    try:\n",
    "        with open(filename) as file_object:\n",
    "            fav_food = file_object.read()\n",
    "    except FileNotFoundError:\n",
    "        print('Sorry the '+ filename + ' is missing.')\n",
    "    else:\n",
    "        list_words = fav_food.split()\n",
    "        print('The file ' +filename+' contain '+str(len(list_words))+' words.')"
   ]
  },
  {
   "cell_type": "code",
   "execution_count": 74,
   "metadata": {
    "collapsed": false
   },
   "outputs": [
    {
     "name": "stdout",
     "output_type": "stream",
     "text": [
      "The file myfavfoodlist.txt contain 17 words.\n"
     ]
    }
   ],
   "source": [
    "count_words('myfavfoodlist.txt')"
   ]
  },
  {
   "cell_type": "code",
   "execution_count": 77,
   "metadata": {
    "collapsed": false
   },
   "outputs": [
    {
     "name": "stdout",
     "output_type": "stream",
     "text": [
      "The file myfavfoodlist.txt contain 17 words.\n",
      "The file myfavfood.txt contain 6 words.\n",
      "The file friendname.txt contain 4 words.\n",
      "Sorry the friend.txtis missing.\n"
     ]
    }
   ],
   "source": [
    "files = ['myfavfoodlist.txt','myfavfood.txt','friendname.txt','friend.txt']\n",
    "for file in files:\n",
    "    count_words(file)"
   ]
  },
  {
   "cell_type": "code",
   "execution_count": 81,
   "metadata": {
    "collapsed": false
   },
   "outputs": [
    {
     "name": "stdout",
     "output_type": "stream",
     "text": [
      "The file myfavfoodlist.txt contain 17 words.\n",
      "The file myfavfood.txt contain 6 words.\n",
      "Sorry the friend.txt is missing.\n",
      "The file friendname.txt contain 4 words.\n"
     ]
    }
   ],
   "source": [
    "files = ['myfavfoodlist.txt','myfavfood.txt','friend.txt','friendname.txt']\n",
    "for file in files:\n",
    "    count_words(file)"
   ]
  },
  {
   "cell_type": "code",
   "execution_count": 82,
   "metadata": {
    "collapsed": true
   },
   "outputs": [],
   "source": [
    "def count_words(filename):\n",
    "    try:\n",
    "        with open(filename) as file_object:\n",
    "            fav_food = file_object.read()\n",
    "    except FileNotFoundError:\n",
    "        pass\n",
    "    else:\n",
    "        list_words = fav_food.split()\n",
    "        print('The file ' +filename+' contain '+str(len(list_words))+' words.')"
   ]
  },
  {
   "cell_type": "code",
   "execution_count": 83,
   "metadata": {
    "collapsed": false,
    "scrolled": true
   },
   "outputs": [
    {
     "name": "stdout",
     "output_type": "stream",
     "text": [
      "The file myfavfoodlist.txt contain 17 words.\n",
      "The file myfavfood.txt contain 6 words.\n",
      "The file friendname.txt contain 4 words.\n"
     ]
    }
   ],
   "source": [
    "files = ['myfavfoodlist.txt','myfavfood.txt','friend.txt','friendname.txt']\n",
    "for file in files:\n",
    "    count_words(file)"
   ]
  },
  {
   "cell_type": "markdown",
   "metadata": {},
   "source": [
    "# Thank you"
   ]
  }
 ],
 "metadata": {
  "kernelspec": {
   "display_name": "Python 3",
   "language": "python",
   "name": "python3"
  },
  "language_info": {
   "codemirror_mode": {
    "name": "ipython",
    "version": 3
   },
   "file_extension": ".py",
   "mimetype": "text/x-python",
   "name": "python",
   "nbconvert_exporter": "python",
   "pygments_lexer": "ipython3",
   "version": "3.5.2"
  }
 },
 "nbformat": 4,
 "nbformat_minor": 2
}
