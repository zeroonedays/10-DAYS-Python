{
 "cells": [
  {
   "cell_type": "markdown",
   "metadata": {
    "deletable": true,
    "editable": true
   },
   "source": [
    "## User Input"
   ]
  },
  {
   "cell_type": "markdown",
   "metadata": {
    "deletable": true,
    "editable": true
   },
   "source": [
    "This method is used to take input from the user."
   ]
  },
  {
   "cell_type": "code",
   "execution_count": 2,
   "metadata": {
    "collapsed": false,
    "deletable": true,
    "editable": true
   },
   "outputs": [
    {
     "name": "stdout",
     "output_type": "stream",
     "text": [
      "What's your age12\n"
     ]
    }
   ],
   "source": [
    "user_age = input(\"What's your age\")"
   ]
  },
  {
   "cell_type": "code",
   "execution_count": 3,
   "metadata": {
    "collapsed": false,
    "deletable": true,
    "editable": true
   },
   "outputs": [
    {
     "data": {
      "text/plain": [
       "'12'"
      ]
     },
     "execution_count": 3,
     "metadata": {},
     "output_type": "execute_result"
    }
   ],
   "source": [
    "user_age"
   ]
  },
  {
   "cell_type": "code",
   "execution_count": 7,
   "metadata": {
    "collapsed": false,
    "deletable": true,
    "editable": true
   },
   "outputs": [
    {
     "name": "stdout",
     "output_type": "stream",
     "text": [
      "What's your namejack\n"
     ]
    }
   ],
   "source": [
    "user_name = input(\"What's your name\")"
   ]
  },
  {
   "cell_type": "code",
   "execution_count": 8,
   "metadata": {
    "collapsed": false,
    "deletable": true,
    "editable": true
   },
   "outputs": [
    {
     "data": {
      "text/plain": [
       "'jack'"
      ]
     },
     "execution_count": 8,
     "metadata": {},
     "output_type": "execute_result"
    }
   ],
   "source": [
    "user_name"
   ]
  },
  {
   "cell_type": "code",
   "execution_count": 10,
   "metadata": {
    "collapsed": false,
    "deletable": true,
    "editable": true
   },
   "outputs": [
    {
     "name": "stdout",
     "output_type": "stream",
     "text": [
      "User is Jack\n"
     ]
    }
   ],
   "source": [
    "print(\"User is \"+ user_name.title())"
   ]
  },
  {
   "cell_type": "code",
   "execution_count": 11,
   "metadata": {
    "collapsed": false,
    "deletable": true,
    "editable": true
   },
   "outputs": [
    {
     "name": "stdout",
     "output_type": "stream",
     "text": [
      "enter a number45\n"
     ]
    }
   ],
   "source": [
    "strs = input('enter a number')"
   ]
  },
  {
   "cell_type": "code",
   "execution_count": 13,
   "metadata": {
    "collapsed": false,
    "deletable": true,
    "editable": true
   },
   "outputs": [
    {
     "data": {
      "text/plain": [
       "45"
      ]
     },
     "execution_count": 13,
     "metadata": {},
     "output_type": "execute_result"
    }
   ],
   "source": [
    "int(strs)"
   ]
  },
  {
   "cell_type": "code",
   "execution_count": 14,
   "metadata": {
    "collapsed": false,
    "deletable": true,
    "editable": true
   },
   "outputs": [
    {
     "name": "stdout",
     "output_type": "stream",
     "text": [
      "What's your age45\n"
     ]
    }
   ],
   "source": [
    "number = int(input(\"What's your age\"))"
   ]
  },
  {
   "cell_type": "code",
   "execution_count": 15,
   "metadata": {
    "collapsed": false,
    "deletable": true,
    "editable": true
   },
   "outputs": [
    {
     "name": "stdout",
     "output_type": "stream",
     "text": [
      "You're eligible to vote!\n"
     ]
    }
   ],
   "source": [
    "if number > 18:\n",
    "    print(\"You're eligible to vote!\")\n",
    "else:\n",
    "    print(\"You're not eligible to vote\")"
   ]
  },
  {
   "cell_type": "code",
   "execution_count": 17,
   "metadata": {
    "collapsed": false,
    "deletable": true,
    "editable": true
   },
   "outputs": [
    {
     "name": "stdout",
     "output_type": "stream",
     "text": [
      "What's your age17\n",
      "You're not eligible to vote!\n"
     ]
    }
   ],
   "source": [
    "number = int(input(\"What's your age\"))\n",
    "if number > 18:\n",
    "    print(\"You're eligible to vote!\")\n",
    "else:\n",
    "    print(\"You're not eligible to vote!\")"
   ]
  },
  {
   "cell_type": "markdown",
   "metadata": {
    "deletable": true,
    "editable": true
   },
   "source": [
    "# odd or even"
   ]
  },
  {
   "cell_type": "code",
   "execution_count": 23,
   "metadata": {
    "collapsed": false,
    "deletable": true,
    "editable": true
   },
   "outputs": [
    {
     "name": "stdout",
     "output_type": "stream",
     "text": [
      "Enter a number15\n",
      "Odd\n"
     ]
    }
   ],
   "source": [
    "num = int(input('Enter a number'))\n",
    "if num % 2== 0:\n",
    "    print('It is even')\n",
    "else:\n",
    "    print('Odd')"
   ]
  },
  {
   "cell_type": "markdown",
   "metadata": {
    "deletable": true,
    "editable": true
   },
   "source": [
    "# Modulo operator"
   ]
  },
  {
   "cell_type": "code",
   "execution_count": 19,
   "metadata": {
    "collapsed": false,
    "deletable": true,
    "editable": true
   },
   "outputs": [
    {
     "data": {
      "text/plain": [
       "0"
      ]
     },
     "execution_count": 19,
     "metadata": {},
     "output_type": "execute_result"
    }
   ],
   "source": [
    "4%2"
   ]
  },
  {
   "cell_type": "code",
   "execution_count": 20,
   "metadata": {
    "collapsed": false,
    "deletable": true,
    "editable": true
   },
   "outputs": [
    {
     "data": {
      "text/plain": [
       "1"
      ]
     },
     "execution_count": 20,
     "metadata": {},
     "output_type": "execute_result"
    }
   ],
   "source": [
    "7%2"
   ]
  },
  {
   "cell_type": "code",
   "execution_count": 21,
   "metadata": {
    "collapsed": false,
    "deletable": true,
    "editable": true
   },
   "outputs": [
    {
     "data": {
      "text/plain": [
       "1"
      ]
     },
     "execution_count": 21,
     "metadata": {},
     "output_type": "execute_result"
    }
   ],
   "source": [
    "11%5"
   ]
  },
  {
   "cell_type": "code",
   "execution_count": 22,
   "metadata": {
    "collapsed": false,
    "deletable": true,
    "editable": true
   },
   "outputs": [
    {
     "data": {
      "text/plain": [
       "2"
      ]
     },
     "execution_count": 22,
     "metadata": {},
     "output_type": "execute_result"
    }
   ],
   "source": [
    "12%5"
   ]
  },
  {
   "cell_type": "markdown",
   "metadata": {
    "deletable": true,
    "editable": true
   },
   "source": [
    "## modulo operator used for return remainder"
   ]
  },
  {
   "cell_type": "code",
   "execution_count": 25,
   "metadata": {
    "collapsed": false,
    "deletable": true,
    "editable": true
   },
   "outputs": [
    {
     "name": "stdout",
     "output_type": "stream",
     "text": [
      "Enter a number45\n",
      "Number is divisble by 3\n"
     ]
    }
   ],
   "source": [
    "num = int(input('Enter a number'))\n",
    "if num%3 == 0:\n",
    "    print('Number is divisble by 3')\n",
    "else:\n",
    "    print('No is not divisible by 3')"
   ]
  },
  {
   "cell_type": "markdown",
   "metadata": {
    "deletable": true,
    "editable": true
   },
   "source": [
    "# For loops and input"
   ]
  },
  {
   "cell_type": "code",
   "execution_count": 26,
   "metadata": {
    "collapsed": false,
    "deletable": true,
    "editable": true
   },
   "outputs": [
    {
     "name": "stdout",
     "output_type": "stream",
     "text": [
      "Top 10 studensts of my class are :\n",
      "Enter the name of top10 studentsJack\n",
      "Jack\n",
      "Enter the name of top10 studentsdarshi\n",
      "darshi\n",
      "Enter the name of top10 studentsshaan\n",
      "shaan\n",
      "Enter the name of top10 studentsgopi\n",
      "gopi\n",
      "Enter the name of top10 studentsram\n",
      "ram\n",
      "Enter the name of top10 studentsgopal\n",
      "gopal\n",
      "Enter the name of top10 studentsmahi\n",
      "mahi\n",
      "Enter the name of top10 studentssachi\n",
      "sachi\n",
      "Enter the name of top10 studentsyogi\n",
      "yogi\n",
      "Enter the name of top10 studentsshah\n",
      "shah\n"
     ]
    }
   ],
   "source": [
    "print('Top 10 studensts of my class are :')\n",
    "for i in range(10):\n",
    "    name = input('Enter the name of top10 students')\n",
    "    print(name)"
   ]
  },
  {
   "cell_type": "code",
   "execution_count": 27,
   "metadata": {
    "collapsed": false,
    "deletable": true,
    "editable": true
   },
   "outputs": [
    {
     "name": "stdout",
     "output_type": "stream",
     "text": [
      "Top 10 studensts of my class are :\n",
      "Enter the name of top10 studentsdarshi\n",
      "Enter the name of top10 studentskavya\n",
      "Enter the name of top10 studentssachin\n",
      "Enter the name of top10 studentsgopi\n",
      "Enter the name of top10 studentsram\n",
      "Enter the name of top10 studentsjack\n",
      "Enter the name of top10 studentshello\n",
      "Enter the name of top10 studentskali\n",
      "Enter the name of top10 studentsvashu\n",
      "Enter the name of top10 studentsarman\n",
      "['darshi', 'kavya', 'sachin', 'gopi', 'ram', 'jack', 'hello', 'kali', 'vashu', 'arman']\n"
     ]
    }
   ],
   "source": [
    "print('Top 10 studensts of my class are :')\n",
    "students = []\n",
    "for i in range(10):\n",
    "    name = input('Enter the name of top10 students')\n",
    "    students.append(name)\n",
    "print(students)"
   ]
  },
  {
   "cell_type": "code",
   "execution_count": 3,
   "metadata": {
    "collapsed": false,
    "deletable": true,
    "editable": true
   },
   "outputs": [
    {
     "name": "stdout",
     "output_type": "stream",
     "text": [
      "Enter the name of 1st topper taree\n",
      "Enter the name of 2st topper haris\n",
      "Enter the name of 3st topper shaan\n",
      "\n",
      "\n",
      "\n",
      "\n",
      "Top 3 studensts of my class are :\n",
      "Taree\n",
      "Haris\n",
      "Shaan\n"
     ]
    }
   ],
   "source": [
    "students = []\n",
    "for i in range(3):\n",
    "    name = input('Enter the name of '+str(i+1)+ 'st '+ 'topper ')\n",
    "    students.append(name)\n",
    "print('\\n\\n\\n')\n",
    "print('Top 3 studensts of my class are :')\n",
    "for item in students:\n",
    "    print(item.title())"
   ]
  },
  {
   "cell_type": "code",
   "execution_count": 4,
   "metadata": {
    "collapsed": false,
    "deletable": true,
    "editable": true,
    "scrolled": true
   },
   "outputs": [
    {
     "name": "stdout",
     "output_type": "stream",
     "text": [
      "Enter the name of 1st topper tareekh\n",
      "Enter the name of 2nd topper haris\n",
      "Enter the name of 3rd topper shaan\n",
      "Enter the name of 4th topper kavya\n",
      "Enter the name of 5th topper sahil\n",
      "Enter the name of 6th topper anwar\n",
      "Enter the name of 7th topper himanshu\n",
      "Enter the name of 8th topper aniket\n",
      "Enter the name of 9th topper jack\n",
      "Enter the name of 10th topper alexa\n",
      "\n",
      "\n",
      "\n",
      "\n",
      "Top 3 studensts of my class are :\n",
      "Tareekh\n",
      "Haris\n",
      "Shaan\n",
      "Kavya\n",
      "Sahil\n",
      "Anwar\n",
      "Himanshu\n",
      "Aniket\n",
      "Jack\n",
      "Alexa\n"
     ]
    }
   ],
   "source": [
    "students = []\n",
    "for i in range(10):\n",
    "    if i < 3:\n",
    "        if i==0:\n",
    "            name = input('Enter the name of '+str(i+1)+ 'st '+ 'topper ')  \n",
    "        elif i==1:\n",
    "            name = input('Enter the name of '+str(i+1)+ 'nd '+ 'topper ')\n",
    "        else:\n",
    "            name = input('Enter the name of '+str(i+1)+ 'rd '+ 'topper ')\n",
    "    else:\n",
    "        name = input('Enter the name of '+str(i+1)+ 'th '+ 'topper ')\n",
    "    students.append(name)\n",
    "print('\\n\\n\\n')\n",
    "print('Top 10 studensts of my class are :')\n",
    "for item in students:\n",
    "    print(item.title())"
   ]
  },
  {
   "cell_type": "markdown",
   "metadata": {
    "deletable": true,
    "editable": true
   },
   "source": [
    "## While loop and input"
   ]
  },
  {
   "cell_type": "code",
   "execution_count": 4,
   "metadata": {
    "collapsed": false,
    "deletable": true,
    "editable": true
   },
   "outputs": [
    {
     "name": "stdout",
     "output_type": "stream",
     "text": [
      "You  want to add your fav people. write no anytime to cancel\n",
      "darshi\n",
      "shaan\n",
      "alexa\n",
      "siri\n",
      "no\n"
     ]
    },
    {
     "data": {
      "text/plain": [
       "['darshi', 'shaan', 'alexa', 'siri', 'no']"
      ]
     },
     "execution_count": 4,
     "metadata": {},
     "output_type": "execute_result"
    }
   ],
   "source": [
    "my_fav_people = []\n",
    "enter = True\n",
    "print('You  want to add your fav people. write no anytime to cancel')\n",
    "while enter:\n",
    "    name = input()\n",
    "    if name == 'no':\n",
    "        enter = False\n",
    "    my_fav_people.append(name)\n",
    "my_fav_people"
   ]
  },
  {
   "cell_type": "code",
   "execution_count": 7,
   "metadata": {
    "collapsed": false,
    "deletable": true,
    "editable": true
   },
   "outputs": [
    {
     "name": "stdout",
     "output_type": "stream",
     "text": [
      "You  want to add your fav people. write no anytime to cancel\n",
      "darshi\n",
      "no\n"
     ]
    },
    {
     "data": {
      "text/plain": [
       "['darshi']"
      ]
     },
     "execution_count": 7,
     "metadata": {},
     "output_type": "execute_result"
    }
   ],
   "source": [
    "my_fav_people = []\n",
    "print('You  want to add your fav people. write no anytime to cancel')\n",
    "enter = \"\"\n",
    "while enter != 'no':\n",
    "    name = input()\n",
    "    if name == 'no':\n",
    "        enter = 'no'\n",
    "    else:\n",
    "        my_fav_people.append(name)\n",
    "my_fav_people"
   ]
  },
  {
   "cell_type": "code",
   "execution_count": 8,
   "metadata": {
    "collapsed": false,
    "deletable": true,
    "editable": true
   },
   "outputs": [
    {
     "name": "stdout",
     "output_type": "stream",
     "text": [
      "You  want to add your fav people. write no anytime to cancel\n",
      "darshi\n",
      "shaan\n",
      "alexa\n",
      "siri\n",
      "gopal\n",
      "no\n"
     ]
    },
    {
     "data": {
      "text/plain": [
       "['darshi', 'shaan', 'alexa', 'siri', 'gopal']"
      ]
     },
     "execution_count": 8,
     "metadata": {},
     "output_type": "execute_result"
    }
   ],
   "source": [
    "my_fav_people = []\n",
    "print('You  want to add your fav people. write no anytime to cancel')\n",
    "while True:\n",
    "    name = input()\n",
    "    if name == 'no':\n",
    "        break\n",
    "    else:\n",
    "        my_fav_people.append(name)\n",
    "my_fav_people"
   ]
  },
  {
   "cell_type": "code",
   "execution_count": 9,
   "metadata": {
    "collapsed": false,
    "deletable": true,
    "editable": true
   },
   "outputs": [
    {
     "name": "stdout",
     "output_type": "stream",
     "text": [
      "You  want to add your fav people. write no anytime to cancel\n",
      "darshi\n",
      "shaan\n",
      "alexa\n",
      "siri\n",
      "gopal\n",
      "ram\n",
      "no\n"
     ]
    },
    {
     "data": {
      "text/plain": [
       "['darshi', 'shaan', 'alexa', 'siri', 'gopal', 'ram']"
      ]
     },
     "execution_count": 9,
     "metadata": {},
     "output_type": "execute_result"
    }
   ],
   "source": [
    "my_fav_people = []\n",
    "print('You  want to add your fav people. write no anytime to cancel')\n",
    "while True:\n",
    "    name = input()\n",
    "    if name == 'no':\n",
    "        break\n",
    "    my_fav_people.append(name)\n",
    "my_fav_people"
   ]
  },
  {
   "cell_type": "markdown",
   "metadata": {
    "deletable": true,
    "editable": true
   },
   "source": [
    "# continue in a loop"
   ]
  },
  {
   "cell_type": "code",
   "execution_count": 10,
   "metadata": {
    "collapsed": false,
    "deletable": true,
    "editable": true
   },
   "outputs": [
    {
     "name": "stdout",
     "output_type": "stream",
     "text": [
      "You  want to add your fav people. write no anytime to cancel\n",
      "gopal\n",
      "darshi\n",
      "shaan\n",
      "no\n"
     ]
    },
    {
     "data": {
      "text/plain": [
       "['darshi', 'shaan']"
      ]
     },
     "execution_count": 10,
     "metadata": {},
     "output_type": "execute_result"
    }
   ],
   "source": [
    "my_fav_people = []\n",
    "print('You  want to add your fav people. write no anytime to cancel')\n",
    "while True:\n",
    "    name = input()\n",
    "    if name == 'gopal':\n",
    "        continue\n",
    "    if name == 'no':\n",
    "        break\n",
    "    my_fav_people.append(name)\n",
    "my_fav_people"
   ]
  },
  {
   "cell_type": "code",
   "execution_count": 12,
   "metadata": {
    "collapsed": false,
    "deletable": true,
    "editable": true
   },
   "outputs": [
    {
     "name": "stdout",
     "output_type": "stream",
     "text": [
      "0\n",
      "1\n",
      "2\n",
      "4\n",
      "5\n",
      "6\n",
      "7\n",
      "8\n",
      "9\n"
     ]
    }
   ],
   "source": [
    "for i in range(10):\n",
    "    if i==3:\n",
    "        continue\n",
    "    print(i)"
   ]
  },
  {
   "cell_type": "code",
   "execution_count": 2,
   "metadata": {
    "collapsed": false,
    "deletable": true,
    "editable": true
   },
   "outputs": [
    {
     "name": "stdout",
     "output_type": "stream",
     "text": [
      "Write your commenrts! Write no to cancel anytime.\n",
      "no\n"
     ]
    }
   ],
   "source": [
    "print('Write your commenrts! Write no to cancel anytime.')\n",
    "while True:\n",
    "    comment = input()\n",
    "    if comment == 'fuck':\n",
    "        print(\"You can't use abusive words\")\n",
    "        continue\n",
    "    elif comment == 'no':\n",
    "        break\n",
    "    else:\n",
    "        print(comment)"
   ]
  },
  {
   "cell_type": "markdown",
   "metadata": {
    "deletable": true,
    "editable": true
   },
   "source": [
    "# Input in dictionaries"
   ]
  },
  {
   "cell_type": "code",
   "execution_count": 3,
   "metadata": {
    "collapsed": false,
    "deletable": true,
    "editable": true
   },
   "outputs": [
    {
     "name": "stdout",
     "output_type": "stream",
     "text": [
      "Add word and their meaning any times you want. Write no to cancel\n",
      "dog\n",
      "a four feeted anima;\n",
      "cow\n",
      "gives us milk\n",
      "horse\n",
      "very good animal for travel\n",
      "cat\n",
      "very cute animal\n",
      "no\n",
      "no\n"
     ]
    },
    {
     "data": {
      "text/plain": [
       "{'cat': 'very cute animal',\n",
       " 'cow': 'gives us milk',\n",
       " 'dog': 'a four feeted anima;',\n",
       " 'horse': 'very good animal for travel'}"
      ]
     },
     "execution_count": 3,
     "metadata": {},
     "output_type": "execute_result"
    }
   ],
   "source": [
    "my_dict = {}\n",
    "print('Add word and their meaning any times you want. Write no to cancel')\n",
    "while True :\n",
    "    word = input()\n",
    "    meaning = input()\n",
    "    if word == 'no' or meaning=='no':\n",
    "        break\n",
    "    my_dict[word] = meaning\n",
    "    \n",
    "my_dict"
   ]
  },
  {
   "cell_type": "code",
   "execution_count": 3,
   "metadata": {
    "collapsed": false,
    "deletable": true,
    "editable": true
   },
   "outputs": [
    {
     "name": "stdout",
     "output_type": "stream",
     "text": [
      "Write the name and the place you want to visite.\n",
      "alexa\n",
      "taj mahal\n",
      "Want to add your friend fav places. Yes to enter no to cancelyes\n",
      "shaan\n",
      "victoria house\n",
      "Want to add your friend fav places. Yes to enter no to cancelyes\n",
      "darshi\n",
      "red fort\n",
      "Want to add your friend fav places. Yes to enter no to cancelyes\n",
      "aatif\n",
      "india gate\n",
      "Want to add your friend fav places. Yes to enter no to cancelno\n"
     ]
    },
    {
     "data": {
      "text/plain": [
       "{'aatif': 'india gate',\n",
       " 'alexa': 'taj mahal',\n",
       " 'darshi': 'red fort',\n",
       " 'shaan': 'victoria house'}"
      ]
     },
     "execution_count": 3,
     "metadata": {},
     "output_type": "execute_result"
    }
   ],
   "source": [
    "places_to_visit = {}\n",
    "print('Write the name and the place you want to visite.')\n",
    "name = input()\n",
    "place = input()\n",
    "places_to_visit[name] = place\n",
    "while True :\n",
    "    enteragain = input('Want to add your friend fav places. Yes to enter no to cancel')\n",
    "    if enteragain == 'yes':\n",
    "        name = input()\n",
    "        place = input()\n",
    "        places_to_visit[name] = place\n",
    "    else:\n",
    "        break\n",
    "        \n",
    "places_to_visit"
   ]
  },
  {
   "cell_type": "markdown",
   "metadata": {
    "deletable": true,
    "editable": true
   },
   "source": [
    "# Thank You"
   ]
  }
 ],
 "metadata": {
  "kernelspec": {
   "display_name": "Python 3",
   "language": "python",
   "name": "python3"
  },
  "language_info": {
   "codemirror_mode": {
    "name": "ipython",
    "version": 3
   },
   "file_extension": ".py",
   "mimetype": "text/x-python",
   "name": "python",
   "nbconvert_exporter": "python",
   "pygments_lexer": "ipython3",
   "version": "3.5.2"
  }
 },
 "nbformat": 4,
 "nbformat_minor": 2
}
