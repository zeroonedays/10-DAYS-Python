{
 "cells": [
  {
   "cell_type": "markdown",
   "metadata": {
    "deletable": true,
    "editable": true
   },
   "source": [
    "## Dictionaries"
   ]
  },
  {
   "cell_type": "markdown",
   "metadata": {
    "deletable": true,
    "editable": true
   },
   "source": [
    "Store unlimited number of limitless data."
   ]
  },
  {
   "cell_type": "markdown",
   "metadata": {
    "deletable": true,
    "editable": true
   },
   "source": [
    "{} this bracket represents dictionaries"
   ]
  },
  {
   "cell_type": "code",
   "execution_count": 3,
   "metadata": {
    "collapsed": true,
    "deletable": true,
    "editable": true
   },
   "outputs": [],
   "source": [
    "name= 'jack'"
   ]
  },
  {
   "cell_type": "code",
   "execution_count": 4,
   "metadata": {
    "collapsed": true,
    "deletable": true,
    "editable": true
   },
   "outputs": [],
   "source": [
    "jack_age= '18'"
   ]
  },
  {
   "cell_type": "code",
   "execution_count": 5,
   "metadata": {
    "collapsed": true,
    "deletable": true,
    "editable": true
   },
   "outputs": [],
   "source": [
    "jack_address = 'dafsf'"
   ]
  },
  {
   "cell_type": "code",
   "execution_count": 6,
   "metadata": {
    "collapsed": true,
    "deletable": true,
    "editable": true
   },
   "outputs": [],
   "source": [
    "jack_gender = 'male'"
   ]
  },
  {
   "cell_type": "code",
   "execution_count": 10,
   "metadata": {
    "collapsed": true,
    "deletable": true,
    "editable": true
   },
   "outputs": [],
   "source": [
    "jack = {'name':'jack',\n",
    "        'age':18,\n",
    "        'gender':'male',\n",
    "        'address': 'xyz'\n",
    "       }"
   ]
  },
  {
   "cell_type": "code",
   "execution_count": 11,
   "metadata": {
    "collapsed": false,
    "deletable": true,
    "editable": true
   },
   "outputs": [
    {
     "data": {
      "text/plain": [
       "'jack'"
      ]
     },
     "execution_count": 11,
     "metadata": {},
     "output_type": "execute_result"
    }
   ],
   "source": [
    "jack['name']"
   ]
  },
  {
   "cell_type": "code",
   "execution_count": 12,
   "metadata": {
    "collapsed": false,
    "deletable": true,
    "editable": true
   },
   "outputs": [
    {
     "data": {
      "text/plain": [
       "18"
      ]
     },
     "execution_count": 12,
     "metadata": {},
     "output_type": "execute_result"
    }
   ],
   "source": [
    "jack['age']"
   ]
  },
  {
   "cell_type": "code",
   "execution_count": 13,
   "metadata": {
    "collapsed": false,
    "deletable": true,
    "editable": true
   },
   "outputs": [
    {
     "data": {
      "text/plain": [
       "'xyz'"
      ]
     },
     "execution_count": 13,
     "metadata": {},
     "output_type": "execute_result"
    }
   ],
   "source": [
    "jack['address']"
   ]
  },
  {
   "cell_type": "code",
   "execution_count": 16,
   "metadata": {
    "collapsed": true,
    "deletable": true,
    "editable": true
   },
   "outputs": [],
   "source": [
    "dict = { 'man' : 'a homo sapiens that is differ from all the other animals.....',\n",
    "        'cat' : 'a four feeted animal. It is favortie for most of the person',\n",
    "        'cow' : 'a four feeted animal who gives us milk to stay healthy.'\n",
    "}"
   ]
  },
  {
   "cell_type": "code",
   "execution_count": 17,
   "metadata": {
    "collapsed": false,
    "deletable": true,
    "editable": true
   },
   "outputs": [
    {
     "data": {
      "text/plain": [
       "'a four feeted animal who gives us milk to stay healthy.'"
      ]
     },
     "execution_count": 17,
     "metadata": {},
     "output_type": "execute_result"
    }
   ],
   "source": [
    "dict['cow']"
   ]
  },
  {
   "cell_type": "markdown",
   "metadata": {
    "deletable": true,
    "editable": true
   },
   "source": [
    "## Change the value in dictionaries"
   ]
  },
  {
   "cell_type": "code",
   "execution_count": 18,
   "metadata": {
    "collapsed": true,
    "deletable": true,
    "editable": true
   },
   "outputs": [],
   "source": [
    "fav_person = {'name':'jack',\n",
    "              'age':20,\n",
    "              'gender':'male',\n",
    "              'address' : 'san frans.. United state of america.'\n",
    "    \n",
    "}"
   ]
  },
  {
   "cell_type": "code",
   "execution_count": 19,
   "metadata": {
    "collapsed": false,
    "deletable": true,
    "editable": true
   },
   "outputs": [
    {
     "data": {
      "text/plain": [
       "'jack'"
      ]
     },
     "execution_count": 19,
     "metadata": {},
     "output_type": "execute_result"
    }
   ],
   "source": [
    "fav_person['name']"
   ]
  },
  {
   "cell_type": "code",
   "execution_count": 20,
   "metadata": {
    "collapsed": true,
    "deletable": true,
    "editable": true
   },
   "outputs": [],
   "source": [
    "fav_person['name'] = 'kavya'"
   ]
  },
  {
   "cell_type": "code",
   "execution_count": 21,
   "metadata": {
    "collapsed": false,
    "deletable": true,
    "editable": true
   },
   "outputs": [
    {
     "data": {
      "text/plain": [
       "'kavya'"
      ]
     },
     "execution_count": 21,
     "metadata": {},
     "output_type": "execute_result"
    }
   ],
   "source": [
    "fav_person['name']"
   ]
  },
  {
   "cell_type": "code",
   "execution_count": 22,
   "metadata": {
    "collapsed": true,
    "deletable": true,
    "editable": true
   },
   "outputs": [],
   "source": [
    "fav_person['age'] = 17"
   ]
  },
  {
   "cell_type": "code",
   "execution_count": 23,
   "metadata": {
    "collapsed": true,
    "deletable": true,
    "editable": true
   },
   "outputs": [],
   "source": [
    "fav_person['gender'] = 'female'"
   ]
  },
  {
   "cell_type": "code",
   "execution_count": 24,
   "metadata": {
    "collapsed": true,
    "deletable": true,
    "editable": true
   },
   "outputs": [],
   "source": [
    "fav_person['address'] = 'abc'"
   ]
  },
  {
   "cell_type": "code",
   "execution_count": 25,
   "metadata": {
    "collapsed": false,
    "deletable": true,
    "editable": true
   },
   "outputs": [
    {
     "data": {
      "text/plain": [
       "{'address': 'abc', 'age': 17, 'gender': 'female', 'name': 'kavya'}"
      ]
     },
     "execution_count": 25,
     "metadata": {},
     "output_type": "execute_result"
    }
   ],
   "source": [
    "fav_person"
   ]
  },
  {
   "cell_type": "markdown",
   "metadata": {
    "deletable": true,
    "editable": true
   },
   "source": [
    "## deleting the value"
   ]
  },
  {
   "cell_type": "code",
   "execution_count": 27,
   "metadata": {
    "collapsed": true,
    "deletable": true,
    "editable": true
   },
   "outputs": [],
   "source": [
    "fav_person_2 = {'name':'darshi',\n",
    "              'age':78,\n",
    "              'gender':'female',\n",
    "              'address' : 'abc'\n",
    "    \n",
    "}"
   ]
  },
  {
   "cell_type": "code",
   "execution_count": 28,
   "metadata": {
    "collapsed": true,
    "deletable": true,
    "editable": true
   },
   "outputs": [],
   "source": [
    "del fav_person_2['address']"
   ]
  },
  {
   "cell_type": "code",
   "execution_count": 29,
   "metadata": {
    "collapsed": false,
    "deletable": true,
    "editable": true
   },
   "outputs": [
    {
     "ename": "KeyError",
     "evalue": "'address'",
     "output_type": "error",
     "traceback": [
      "\u001b[1;31m---------------------------------------------------------------------------\u001b[0m",
      "\u001b[1;31mKeyError\u001b[0m                                  Traceback (most recent call last)",
      "\u001b[1;32m<ipython-input-29-04917ef8414c>\u001b[0m in \u001b[0;36m<module>\u001b[1;34m()\u001b[0m\n\u001b[1;32m----> 1\u001b[1;33m \u001b[0mfav_person_2\u001b[0m\u001b[1;33m[\u001b[0m\u001b[1;34m'address'\u001b[0m\u001b[1;33m]\u001b[0m\u001b[1;33m\u001b[0m\u001b[0m\n\u001b[0m",
      "\u001b[1;31mKeyError\u001b[0m: 'address'"
     ]
    }
   ],
   "source": [
    "fav_person_2['address']"
   ]
  },
  {
   "cell_type": "code",
   "execution_count": 30,
   "metadata": {
    "collapsed": false,
    "deletable": true,
    "editable": true
   },
   "outputs": [
    {
     "data": {
      "text/plain": [
       "{'age': 78, 'gender': 'female', 'name': 'darshi'}"
      ]
     },
     "execution_count": 30,
     "metadata": {},
     "output_type": "execute_result"
    }
   ],
   "source": [
    "fav_person_2"
   ]
  },
  {
   "cell_type": "code",
   "execution_count": 31,
   "metadata": {
    "collapsed": true,
    "deletable": true,
    "editable": true
   },
   "outputs": [],
   "source": [
    "del fav_person_2['age']"
   ]
  },
  {
   "cell_type": "code",
   "execution_count": 32,
   "metadata": {
    "collapsed": false,
    "deletable": true,
    "editable": true
   },
   "outputs": [
    {
     "data": {
      "text/plain": [
       "{'gender': 'female', 'name': 'darshi'}"
      ]
     },
     "execution_count": 32,
     "metadata": {},
     "output_type": "execute_result"
    }
   ],
   "source": [
    "fav_person_2"
   ]
  },
  {
   "cell_type": "code",
   "execution_count": 33,
   "metadata": {
    "collapsed": true,
    "deletable": true,
    "editable": true
   },
   "outputs": [],
   "source": [
    "del fav_person_2['gender']"
   ]
  },
  {
   "cell_type": "code",
   "execution_count": 34,
   "metadata": {
    "collapsed": false,
    "deletable": true,
    "editable": true
   },
   "outputs": [
    {
     "data": {
      "text/plain": [
       "{'name': 'darshi'}"
      ]
     },
     "execution_count": 34,
     "metadata": {},
     "output_type": "execute_result"
    }
   ],
   "source": [
    "fav_person_2"
   ]
  },
  {
   "cell_type": "markdown",
   "metadata": {
    "deletable": true,
    "editable": true
   },
   "source": [
    "## Dicitionary similar to list"
   ]
  },
  {
   "cell_type": "code",
   "execution_count": 36,
   "metadata": {
    "collapsed": true,
    "deletable": true,
    "editable": true
   },
   "outputs": [],
   "source": [
    "fav_lang = {\n",
    "    'alexa':'python',\n",
    "    'jack':'java',\n",
    "    'kavya' : 'c',\n",
    "    'akansha' : 'c++',\n",
    "    'shaan' : 'ruby'\n",
    "}"
   ]
  },
  {
   "cell_type": "code",
   "execution_count": 41,
   "metadata": {
    "collapsed": false,
    "deletable": true,
    "editable": true
   },
   "outputs": [
    {
     "name": "stdout",
     "output_type": "stream",
     "text": [
      "Alexa favorite language is Python.\n"
     ]
    }
   ],
   "source": [
    "print('Alexa favorite language is '+fav_lang['alexa'].title()+'.')"
   ]
  },
  {
   "cell_type": "code",
   "execution_count": 40,
   "metadata": {
    "collapsed": false,
    "deletable": true,
    "editable": true
   },
   "outputs": [
    {
     "name": "stdout",
     "output_type": "stream",
     "text": [
      "Shaan favorite language is Ruby.\n"
     ]
    }
   ],
   "source": [
    "print('Shaan favorite language is '+fav_lang['shaan'].title()+'.')"
   ]
  },
  {
   "cell_type": "markdown",
   "metadata": {
    "deletable": true,
    "editable": true
   },
   "source": [
    "## print each key and their values in dictionary"
   ]
  },
  {
   "cell_type": "markdown",
   "metadata": {
    "deletable": true,
    "editable": true
   },
   "source": [
    "for key, val in dict_name.item():\n",
    "    \n",
    "    do something"
   ]
  },
  {
   "cell_type": "code",
   "execution_count": 44,
   "metadata": {
    "collapsed": false,
    "deletable": true,
    "editable": true
   },
   "outputs": [
    {
     "name": "stdout",
     "output_type": "stream",
     "text": [
      "Akansha favorite language is C++.\n",
      "Alexa favorite language is PYTHON.\n",
      "Shaan favorite language is RUBY.\n",
      "Jack favorite language is JAVA.\n",
      "Kavya favorite language is C.\n"
     ]
    }
   ],
   "source": [
    "for name, lang in fav_lang.items():\n",
    "    print(name.title()+' favorite language is '+lang.upper()+'.')"
   ]
  },
  {
   "cell_type": "code",
   "execution_count": 45,
   "metadata": {
    "collapsed": false,
    "deletable": true,
    "editable": true
   },
   "outputs": [
    {
     "data": {
      "text/plain": [
       "{'akansha': 'c++',\n",
       " 'alexa': 'python',\n",
       " 'jack': 'java',\n",
       " 'kavya': 'c',\n",
       " 'shaan': 'ruby'}"
      ]
     },
     "execution_count": 45,
     "metadata": {},
     "output_type": "execute_result"
    }
   ],
   "source": [
    "fav_lang"
   ]
  },
  {
   "cell_type": "code",
   "execution_count": 46,
   "metadata": {
    "collapsed": false,
    "deletable": true,
    "editable": true
   },
   "outputs": [
    {
     "data": {
      "text/plain": [
       "'c++'"
      ]
     },
     "execution_count": 46,
     "metadata": {},
     "output_type": "execute_result"
    }
   ],
   "source": [
    "fav_lang['akansha']"
   ]
  },
  {
   "cell_type": "code",
   "execution_count": 50,
   "metadata": {
    "collapsed": false,
    "deletable": true,
    "editable": true
   },
   "outputs": [
    {
     "name": "stdout",
     "output_type": "stream",
     "text": [
      "Akansha favorite language is C++.\n",
      "Alexa favorite language is PYTHON.\n",
      "Shaan favorite language is RUBY.\n",
      "Jack favorite language is JAVA.\n",
      "Kavya favorite language is C.\n"
     ]
    }
   ],
   "source": [
    "for key in fav_lang:\n",
    "    print(key.title()+' favorite language is '+fav_lang[key].upper()+'.')"
   ]
  },
  {
   "cell_type": "code",
   "execution_count": 48,
   "metadata": {
    "collapsed": false,
    "deletable": true,
    "editable": true
   },
   "outputs": [
    {
     "name": "stdout",
     "output_type": "stream",
     "text": [
      "Akansha favorite language is C++.\n",
      "Alexa favorite language is PYTHON.\n",
      "Shaan favorite language is RUBY.\n",
      "Jack favorite language is JAVA.\n",
      "Kavya favorite language is C.\n"
     ]
    }
   ],
   "source": [
    "for name in fav_lang.keys():\n",
    "    print(name.title()+' favorite language is '+fav_lang[name].upper()+'.')"
   ]
  },
  {
   "cell_type": "code",
   "execution_count": 51,
   "metadata": {
    "collapsed": false,
    "deletable": true,
    "editable": true
   },
   "outputs": [
    {
     "data": {
      "text/plain": [
       "'PYTHON'"
      ]
     },
     "execution_count": 51,
     "metadata": {},
     "output_type": "execute_result"
    }
   ],
   "source": [
    "fav_lang['alexa'].upper()"
   ]
  },
  {
   "cell_type": "code",
   "execution_count": 54,
   "metadata": {
    "collapsed": false,
    "deletable": true,
    "editable": true
   },
   "outputs": [
    {
     "name": "stdout",
     "output_type": "stream",
     "text": [
      "These are the fav programming languages of my friend:\n",
      "C++\n",
      "PYTHON\n",
      "RUBY\n",
      "JAVA\n",
      "C\n"
     ]
    }
   ],
   "source": [
    "print('These are the fav programming languages of my friend:')\n",
    "for lang in fav_lang.values():\n",
    "    print(lang.upper())"
   ]
  },
  {
   "cell_type": "markdown",
   "metadata": {
    "deletable": true,
    "editable": true
   },
   "source": [
    "## sorting in dictionaries"
   ]
  },
  {
   "cell_type": "code",
   "execution_count": 57,
   "metadata": {
    "collapsed": false,
    "deletable": true,
    "editable": true
   },
   "outputs": [
    {
     "name": "stdout",
     "output_type": "stream",
     "text": [
      "Akansha favorite language is C++.\n",
      "Alexa favorite language is PYTHON.\n",
      "Jack favorite language is JAVA.\n",
      "Kavya favorite language is C.\n",
      "Shaan favorite language is RUBY.\n"
     ]
    }
   ],
   "source": [
    "for name in sorted(fav_lang.keys()):\n",
    "    print(name.title()+' favorite language is '+fav_lang[name].upper()+'.')"
   ]
  },
  {
   "cell_type": "markdown",
   "metadata": {
    "deletable": true,
    "editable": true
   },
   "source": [
    "## Dictionaries in a list"
   ]
  },
  {
   "cell_type": "code",
   "execution_count": 55,
   "metadata": {
    "collapsed": true,
    "deletable": true,
    "editable": true
   },
   "outputs": [],
   "source": [
    "alexa = {'name' : 'Alexa',\n",
    "        'age' : 20,\n",
    "         'fav_lang' : 'Python',\n",
    "         'address' :'xyz'\n",
    "        }\n",
    "shaan = {'name' : 'Shaan',\n",
    "        'age' : 21,\n",
    "         'fav_lang' : 'C',\n",
    "         'address' :'xyz'\n",
    "        }\n",
    "gopal = {'name' : 'Gopal',\n",
    "        'age' : 17,\n",
    "         'fav_lang' : 'C++',\n",
    "         'address' :'xyz'\n",
    "        }\n",
    "ram = {'name' : 'Ram',\n",
    "        'age' : 22,\n",
    "         'fav_lang' : 'Ruby',\n",
    "         'address' :'xyz'\n",
    "        }"
   ]
  },
  {
   "cell_type": "code",
   "execution_count": 56,
   "metadata": {
    "collapsed": true,
    "deletable": true,
    "editable": true
   },
   "outputs": [],
   "source": [
    "my_friends = [alexa, shaan, gopal, ram]"
   ]
  },
  {
   "cell_type": "code",
   "execution_count": 60,
   "metadata": {
    "collapsed": false,
    "deletable": true,
    "editable": true
   },
   "outputs": [
    {
     "data": {
      "text/plain": [
       "{'address': 'xyz', 'age': 17, 'fav_lang': 'C++', 'name': 'Gopal'}"
      ]
     },
     "execution_count": 60,
     "metadata": {},
     "output_type": "execute_result"
    }
   ],
   "source": [
    "my_friends[2]"
   ]
  },
  {
   "cell_type": "code",
   "execution_count": 62,
   "metadata": {
    "collapsed": false,
    "deletable": true,
    "editable": true
   },
   "outputs": [
    {
     "name": "stdout",
     "output_type": "stream",
     "text": [
      "{'address': 'xyz', 'age': 20, 'name': 'Alexa', 'fav_lang': 'Python'}\n",
      "{'address': 'xyz', 'age': 21, 'name': 'Shaan', 'fav_lang': 'C'}\n",
      "{'address': 'xyz', 'age': 17, 'name': 'Gopal', 'fav_lang': 'C++'}\n",
      "{'address': 'xyz', 'age': 22, 'name': 'Ram', 'fav_lang': 'Ruby'}\n"
     ]
    }
   ],
   "source": [
    "for friend in my_friends:\n",
    "    print(friend)"
   ]
  },
  {
   "cell_type": "code",
   "execution_count": 3,
   "metadata": {
    "collapsed": true,
    "deletable": true,
    "editable": true
   },
   "outputs": [],
   "source": [
    "hyundai_car = {'name':'Hyundai',\n",
    "      'price' : '5 lakh',\n",
    "      'speed': 'fast',\n",
    "      'color' : 'red'}"
   ]
  },
  {
   "cell_type": "code",
   "execution_count": 4,
   "metadata": {
    "collapsed": false,
    "deletable": true,
    "editable": true
   },
   "outputs": [],
   "source": [
    "hyundai_car_list = [hyundai_car]"
   ]
  },
  {
   "cell_type": "markdown",
   "metadata": {
    "deletable": true,
    "editable": true
   },
   "source": [
    "## 100 hyundai car"
   ]
  },
  {
   "cell_type": "code",
   "execution_count": 5,
   "metadata": {
    "collapsed": false
   },
   "outputs": [],
   "source": [
    "for car in range(100):\n",
    "    copy_car = {'name':'Hyundai',\n",
    "      'price' : '5 lakh',\n",
    "      'speed': 'fast',\n",
    "      'color' : 'red'}\n",
    "    hyundai_car_list.append(copy_car)"
   ]
  },
  {
   "cell_type": "code",
   "execution_count": 6,
   "metadata": {
    "collapsed": false
   },
   "outputs": [
    {
     "name": "stdout",
     "output_type": "stream",
     "text": [
      "{'speed': 'fast', 'color': 'red', 'price': '5 lakh', 'name': 'Hyundai'}\n",
      "{'speed': 'fast', 'color': 'red', 'price': '5 lakh', 'name': 'Hyundai'}\n",
      "{'speed': 'fast', 'color': 'red', 'price': '5 lakh', 'name': 'Hyundai'}\n",
      "{'speed': 'fast', 'color': 'red', 'price': '5 lakh', 'name': 'Hyundai'}\n",
      "{'speed': 'fast', 'color': 'red', 'price': '5 lakh', 'name': 'Hyundai'}\n",
      "{'speed': 'fast', 'color': 'red', 'price': '5 lakh', 'name': 'Hyundai'}\n",
      "{'speed': 'fast', 'color': 'red', 'price': '5 lakh', 'name': 'Hyundai'}\n",
      "{'speed': 'fast', 'color': 'red', 'price': '5 lakh', 'name': 'Hyundai'}\n",
      "{'speed': 'fast', 'color': 'red', 'price': '5 lakh', 'name': 'Hyundai'}\n",
      "{'speed': 'fast', 'color': 'red', 'price': '5 lakh', 'name': 'Hyundai'}\n",
      "{'speed': 'fast', 'color': 'red', 'price': '5 lakh', 'name': 'Hyundai'}\n",
      "{'speed': 'fast', 'color': 'red', 'price': '5 lakh', 'name': 'Hyundai'}\n",
      "{'speed': 'fast', 'color': 'red', 'price': '5 lakh', 'name': 'Hyundai'}\n",
      "{'speed': 'fast', 'color': 'red', 'price': '5 lakh', 'name': 'Hyundai'}\n",
      "{'speed': 'fast', 'color': 'red', 'price': '5 lakh', 'name': 'Hyundai'}\n",
      "{'speed': 'fast', 'color': 'red', 'price': '5 lakh', 'name': 'Hyundai'}\n",
      "{'speed': 'fast', 'color': 'red', 'price': '5 lakh', 'name': 'Hyundai'}\n",
      "{'speed': 'fast', 'color': 'red', 'price': '5 lakh', 'name': 'Hyundai'}\n",
      "{'speed': 'fast', 'color': 'red', 'price': '5 lakh', 'name': 'Hyundai'}\n",
      "{'speed': 'fast', 'color': 'red', 'price': '5 lakh', 'name': 'Hyundai'}\n",
      "{'speed': 'fast', 'color': 'red', 'price': '5 lakh', 'name': 'Hyundai'}\n",
      "{'speed': 'fast', 'color': 'red', 'price': '5 lakh', 'name': 'Hyundai'}\n",
      "{'speed': 'fast', 'color': 'red', 'price': '5 lakh', 'name': 'Hyundai'}\n",
      "{'speed': 'fast', 'color': 'red', 'price': '5 lakh', 'name': 'Hyundai'}\n",
      "{'speed': 'fast', 'color': 'red', 'price': '5 lakh', 'name': 'Hyundai'}\n",
      "{'speed': 'fast', 'color': 'red', 'price': '5 lakh', 'name': 'Hyundai'}\n",
      "{'speed': 'fast', 'color': 'red', 'price': '5 lakh', 'name': 'Hyundai'}\n",
      "{'speed': 'fast', 'color': 'red', 'price': '5 lakh', 'name': 'Hyundai'}\n",
      "{'speed': 'fast', 'color': 'red', 'price': '5 lakh', 'name': 'Hyundai'}\n",
      "{'speed': 'fast', 'color': 'red', 'price': '5 lakh', 'name': 'Hyundai'}\n",
      "{'speed': 'fast', 'color': 'red', 'price': '5 lakh', 'name': 'Hyundai'}\n",
      "{'speed': 'fast', 'color': 'red', 'price': '5 lakh', 'name': 'Hyundai'}\n",
      "{'speed': 'fast', 'color': 'red', 'price': '5 lakh', 'name': 'Hyundai'}\n",
      "{'speed': 'fast', 'color': 'red', 'price': '5 lakh', 'name': 'Hyundai'}\n",
      "{'speed': 'fast', 'color': 'red', 'price': '5 lakh', 'name': 'Hyundai'}\n",
      "{'speed': 'fast', 'color': 'red', 'price': '5 lakh', 'name': 'Hyundai'}\n",
      "{'speed': 'fast', 'color': 'red', 'price': '5 lakh', 'name': 'Hyundai'}\n",
      "{'speed': 'fast', 'color': 'red', 'price': '5 lakh', 'name': 'Hyundai'}\n",
      "{'speed': 'fast', 'color': 'red', 'price': '5 lakh', 'name': 'Hyundai'}\n",
      "{'speed': 'fast', 'color': 'red', 'price': '5 lakh', 'name': 'Hyundai'}\n",
      "{'speed': 'fast', 'color': 'red', 'price': '5 lakh', 'name': 'Hyundai'}\n",
      "{'speed': 'fast', 'color': 'red', 'price': '5 lakh', 'name': 'Hyundai'}\n",
      "{'speed': 'fast', 'color': 'red', 'price': '5 lakh', 'name': 'Hyundai'}\n",
      "{'speed': 'fast', 'color': 'red', 'price': '5 lakh', 'name': 'Hyundai'}\n",
      "{'speed': 'fast', 'color': 'red', 'price': '5 lakh', 'name': 'Hyundai'}\n",
      "{'speed': 'fast', 'color': 'red', 'price': '5 lakh', 'name': 'Hyundai'}\n",
      "{'speed': 'fast', 'color': 'red', 'price': '5 lakh', 'name': 'Hyundai'}\n",
      "{'speed': 'fast', 'color': 'red', 'price': '5 lakh', 'name': 'Hyundai'}\n",
      "{'speed': 'fast', 'color': 'red', 'price': '5 lakh', 'name': 'Hyundai'}\n",
      "{'speed': 'fast', 'color': 'red', 'price': '5 lakh', 'name': 'Hyundai'}\n",
      "{'speed': 'fast', 'color': 'red', 'price': '5 lakh', 'name': 'Hyundai'}\n",
      "{'speed': 'fast', 'color': 'red', 'price': '5 lakh', 'name': 'Hyundai'}\n",
      "{'speed': 'fast', 'color': 'red', 'price': '5 lakh', 'name': 'Hyundai'}\n",
      "{'speed': 'fast', 'color': 'red', 'price': '5 lakh', 'name': 'Hyundai'}\n",
      "{'speed': 'fast', 'color': 'red', 'price': '5 lakh', 'name': 'Hyundai'}\n",
      "{'speed': 'fast', 'color': 'red', 'price': '5 lakh', 'name': 'Hyundai'}\n",
      "{'speed': 'fast', 'color': 'red', 'price': '5 lakh', 'name': 'Hyundai'}\n",
      "{'speed': 'fast', 'color': 'red', 'price': '5 lakh', 'name': 'Hyundai'}\n",
      "{'speed': 'fast', 'color': 'red', 'price': '5 lakh', 'name': 'Hyundai'}\n",
      "{'speed': 'fast', 'color': 'red', 'price': '5 lakh', 'name': 'Hyundai'}\n",
      "{'speed': 'fast', 'color': 'red', 'price': '5 lakh', 'name': 'Hyundai'}\n",
      "{'speed': 'fast', 'color': 'red', 'price': '5 lakh', 'name': 'Hyundai'}\n",
      "{'speed': 'fast', 'color': 'red', 'price': '5 lakh', 'name': 'Hyundai'}\n",
      "{'speed': 'fast', 'color': 'red', 'price': '5 lakh', 'name': 'Hyundai'}\n",
      "{'speed': 'fast', 'color': 'red', 'price': '5 lakh', 'name': 'Hyundai'}\n",
      "{'speed': 'fast', 'color': 'red', 'price': '5 lakh', 'name': 'Hyundai'}\n",
      "{'speed': 'fast', 'color': 'red', 'price': '5 lakh', 'name': 'Hyundai'}\n",
      "{'speed': 'fast', 'color': 'red', 'price': '5 lakh', 'name': 'Hyundai'}\n",
      "{'speed': 'fast', 'color': 'red', 'price': '5 lakh', 'name': 'Hyundai'}\n",
      "{'speed': 'fast', 'color': 'red', 'price': '5 lakh', 'name': 'Hyundai'}\n",
      "{'speed': 'fast', 'color': 'red', 'price': '5 lakh', 'name': 'Hyundai'}\n",
      "{'speed': 'fast', 'color': 'red', 'price': '5 lakh', 'name': 'Hyundai'}\n",
      "{'speed': 'fast', 'color': 'red', 'price': '5 lakh', 'name': 'Hyundai'}\n",
      "{'speed': 'fast', 'color': 'red', 'price': '5 lakh', 'name': 'Hyundai'}\n",
      "{'speed': 'fast', 'color': 'red', 'price': '5 lakh', 'name': 'Hyundai'}\n",
      "{'speed': 'fast', 'color': 'red', 'price': '5 lakh', 'name': 'Hyundai'}\n",
      "{'speed': 'fast', 'color': 'red', 'price': '5 lakh', 'name': 'Hyundai'}\n",
      "{'speed': 'fast', 'color': 'red', 'price': '5 lakh', 'name': 'Hyundai'}\n",
      "{'speed': 'fast', 'color': 'red', 'price': '5 lakh', 'name': 'Hyundai'}\n",
      "{'speed': 'fast', 'color': 'red', 'price': '5 lakh', 'name': 'Hyundai'}\n",
      "{'speed': 'fast', 'color': 'red', 'price': '5 lakh', 'name': 'Hyundai'}\n",
      "{'speed': 'fast', 'color': 'red', 'price': '5 lakh', 'name': 'Hyundai'}\n",
      "{'speed': 'fast', 'color': 'red', 'price': '5 lakh', 'name': 'Hyundai'}\n",
      "{'speed': 'fast', 'color': 'red', 'price': '5 lakh', 'name': 'Hyundai'}\n",
      "{'speed': 'fast', 'color': 'red', 'price': '5 lakh', 'name': 'Hyundai'}\n",
      "{'speed': 'fast', 'color': 'red', 'price': '5 lakh', 'name': 'Hyundai'}\n",
      "{'speed': 'fast', 'color': 'red', 'price': '5 lakh', 'name': 'Hyundai'}\n",
      "{'speed': 'fast', 'color': 'red', 'price': '5 lakh', 'name': 'Hyundai'}\n",
      "{'speed': 'fast', 'color': 'red', 'price': '5 lakh', 'name': 'Hyundai'}\n",
      "{'speed': 'fast', 'color': 'red', 'price': '5 lakh', 'name': 'Hyundai'}\n",
      "{'speed': 'fast', 'color': 'red', 'price': '5 lakh', 'name': 'Hyundai'}\n",
      "{'speed': 'fast', 'color': 'red', 'price': '5 lakh', 'name': 'Hyundai'}\n",
      "{'speed': 'fast', 'color': 'red', 'price': '5 lakh', 'name': 'Hyundai'}\n",
      "{'speed': 'fast', 'color': 'red', 'price': '5 lakh', 'name': 'Hyundai'}\n",
      "{'speed': 'fast', 'color': 'red', 'price': '5 lakh', 'name': 'Hyundai'}\n",
      "{'speed': 'fast', 'color': 'red', 'price': '5 lakh', 'name': 'Hyundai'}\n",
      "{'speed': 'fast', 'color': 'red', 'price': '5 lakh', 'name': 'Hyundai'}\n",
      "{'speed': 'fast', 'color': 'red', 'price': '5 lakh', 'name': 'Hyundai'}\n",
      "{'speed': 'fast', 'color': 'red', 'price': '5 lakh', 'name': 'Hyundai'}\n",
      "{'speed': 'fast', 'color': 'red', 'price': '5 lakh', 'name': 'Hyundai'}\n",
      "{'speed': 'fast', 'color': 'red', 'price': '5 lakh', 'name': 'Hyundai'}\n"
     ]
    }
   ],
   "source": [
    "for car in hyundai_car_list:\n",
    "    print(car)"
   ]
  },
  {
   "cell_type": "code",
   "execution_count": 7,
   "metadata": {
    "collapsed": false,
    "scrolled": true
   },
   "outputs": [
    {
     "name": "stdout",
     "output_type": "stream",
     "text": [
      "{'speed': 'fast', 'color': 'red', 'price': '5 lakh', 'name': 'Hyundai'}\n",
      "{'speed': 'fast', 'color': 'red', 'price': '5 lakh', 'name': 'Hyundai'}\n",
      "{'speed': 'fast', 'color': 'red', 'price': '5 lakh', 'name': 'Hyundai'}\n",
      "{'speed': 'fast', 'color': 'red', 'price': '5 lakh', 'name': 'Hyundai'}\n",
      "{'speed': 'fast', 'color': 'red', 'price': '5 lakh', 'name': 'Hyundai'}\n",
      "{'speed': 'fast', 'color': 'red', 'price': '5 lakh', 'name': 'Hyundai'}\n",
      "{'speed': 'fast', 'color': 'red', 'price': '5 lakh', 'name': 'Hyundai'}\n",
      "{'speed': 'fast', 'color': 'red', 'price': '5 lakh', 'name': 'Hyundai'}\n",
      "{'speed': 'fast', 'color': 'red', 'price': '5 lakh', 'name': 'Hyundai'}\n",
      "{'speed': 'fast', 'color': 'red', 'price': '5 lakh', 'name': 'Hyundai'}\n"
     ]
    }
   ],
   "source": [
    "for car in hyundai_car_list[:10]:\n",
    "    print(car)"
   ]
  },
  {
   "cell_type": "code",
   "execution_count": 12,
   "metadata": {
    "collapsed": false
   },
   "outputs": [],
   "source": [
    "for car in hyundai_car_list[:5]:\n",
    "    car['price'] = '10 lakh'\n",
    "    car['speed'] = 'Vey fast'\n",
    "    car['color'] = 'green'"
   ]
  },
  {
   "cell_type": "code",
   "execution_count": 14,
   "metadata": {
    "collapsed": false
   },
   "outputs": [
    {
     "name": "stdout",
     "output_type": "stream",
     "text": [
      "{'speed': 'Vey fast', 'color': 'green', 'price': '10 lakh', 'name': 'Hyundai'}\n",
      "{'speed': 'Vey fast', 'color': 'green', 'price': '10 lakh', 'name': 'Hyundai'}\n",
      "{'speed': 'Vey fast', 'color': 'green', 'price': '10 lakh', 'name': 'Hyundai'}\n",
      "{'speed': 'Vey fast', 'color': 'green', 'price': '10 lakh', 'name': 'Hyundai'}\n",
      "{'speed': 'Vey fast', 'color': 'green', 'price': '10 lakh', 'name': 'Hyundai'}\n",
      "{'speed': 'fast', 'color': 'red', 'price': '5 lakh', 'name': 'Hyundai'}\n",
      "{'speed': 'fast', 'color': 'red', 'price': '5 lakh', 'name': 'Hyundai'}\n",
      "{'speed': 'fast', 'color': 'red', 'price': '5 lakh', 'name': 'Hyundai'}\n",
      "{'speed': 'fast', 'color': 'red', 'price': '5 lakh', 'name': 'Hyundai'}\n",
      "{'speed': 'fast', 'color': 'red', 'price': '5 lakh', 'name': 'Hyundai'}\n"
     ]
    }
   ],
   "source": [
    "for car in hyundai_car_list[:10]:\n",
    "    print(car)"
   ]
  },
  {
   "cell_type": "code",
   "execution_count": 15,
   "metadata": {
    "collapsed": true
   },
   "outputs": [],
   "source": [
    "for car in hyundai_car_list[:3]:\n",
    "    car['price'] = '4 lakh'\n",
    "    car['speed'] = 'Slow'\n",
    "    car['color'] = 'red'"
   ]
  },
  {
   "cell_type": "code",
   "execution_count": 16,
   "metadata": {
    "collapsed": false
   },
   "outputs": [
    {
     "name": "stdout",
     "output_type": "stream",
     "text": [
      "{'speed': 'Slow', 'color': 'red', 'price': '4 lakh', 'name': 'Hyundai'}\n",
      "{'speed': 'Slow', 'color': 'red', 'price': '4 lakh', 'name': 'Hyundai'}\n",
      "{'speed': 'Slow', 'color': 'red', 'price': '4 lakh', 'name': 'Hyundai'}\n",
      "{'speed': 'Vey fast', 'color': 'green', 'price': '10 lakh', 'name': 'Hyundai'}\n",
      "{'speed': 'Vey fast', 'color': 'green', 'price': '10 lakh', 'name': 'Hyundai'}\n",
      "{'speed': 'fast', 'color': 'red', 'price': '5 lakh', 'name': 'Hyundai'}\n",
      "{'speed': 'fast', 'color': 'red', 'price': '5 lakh', 'name': 'Hyundai'}\n",
      "{'speed': 'fast', 'color': 'red', 'price': '5 lakh', 'name': 'Hyundai'}\n",
      "{'speed': 'fast', 'color': 'red', 'price': '5 lakh', 'name': 'Hyundai'}\n",
      "{'speed': 'fast', 'color': 'red', 'price': '5 lakh', 'name': 'Hyundai'}\n"
     ]
    }
   ],
   "source": [
    "for car in hyundai_car_list[:10]:\n",
    "    print(car)"
   ]
  },
  {
   "cell_type": "code",
   "execution_count": 24,
   "metadata": {
    "collapsed": false
   },
   "outputs": [],
   "source": [
    "for car in hyundai_car_list[5:10]:\n",
    "    if car['color'] == 'red':\n",
    "        car['color'] = 'blue'\n",
    "    if car['speed'] == 'fast':\n",
    "        car['speed'] ='slow'\n",
    "    car['price'] = '1 lakh'"
   ]
  },
  {
   "cell_type": "code",
   "execution_count": 25,
   "metadata": {
    "collapsed": false
   },
   "outputs": [
    {
     "name": "stdout",
     "output_type": "stream",
     "text": [
      "{'speed': 'Slow', 'color': 'red', 'price': '4 lakh', 'name': 'Hyundai'}\n",
      "{'speed': 'Slow', 'color': 'red', 'price': '4 lakh', 'name': 'Hyundai'}\n",
      "{'speed': 'Slow', 'color': 'red', 'price': '4 lakh', 'name': 'Hyundai'}\n",
      "{'speed': 'Vey fast', 'color': 'green', 'price': '10 lakh', 'name': 'Hyundai'}\n",
      "{'speed': 'Vey fast', 'color': 'green', 'price': '10 lakh', 'name': 'Hyundai'}\n",
      "{'speed': 'slow', 'color': 'blue', 'price': '1 lakh', 'name': 'Hyundai'}\n",
      "{'speed': 'slow', 'color': 'blue', 'price': '1 lakh', 'name': 'Hyundai'}\n",
      "{'speed': 'slow', 'color': 'blue', 'price': '1 lakh', 'name': 'Hyundai'}\n",
      "{'speed': 'slow', 'color': 'blue', 'price': '1 lakh', 'name': 'Hyundai'}\n",
      "{'speed': 'slow', 'color': 'blue', 'price': '1 lakh', 'name': 'Hyundai'}\n"
     ]
    }
   ],
   "source": [
    "for car in hyundai_car_list[:10]:\n",
    "    print(car)"
   ]
  },
  {
   "cell_type": "markdown",
   "metadata": {},
   "source": [
    "## List in a dictionary"
   ]
  },
  {
   "cell_type": "code",
   "execution_count": 27,
   "metadata": {
    "collapsed": false
   },
   "outputs": [],
   "source": [
    "my_friends_fav_food = {\n",
    "    'Alexa' : ['pizza','biryani','burger','pasta','ice cream','chicken'],\n",
    "    'shaan' : ['pizza','biryani','burger'],\n",
    "    'darshi' : ['pizza','boryani','pasta','ice cream']\n",
    "}"
   ]
  },
  {
   "cell_type": "code",
   "execution_count": 31,
   "metadata": {
    "collapsed": false
   },
   "outputs": [
    {
     "name": "stdout",
     "output_type": "stream",
     "text": [
      "My friend Alexa favorite foods are:\n",
      "pizza\n",
      "biryani\n",
      "burger\n",
      "pasta\n",
      "ice cream\n",
      "chicken\n",
      "\n",
      "My friend shaan favorite foods are:\n",
      "pizza\n",
      "biryani\n",
      "burger\n",
      "\n",
      "My friend darshi favorite foods are:\n",
      "pizza\n",
      "boryani\n",
      "pasta\n",
      "ice cream\n",
      "\n"
     ]
    }
   ],
   "source": [
    "for friend in my_friends_fav_food.keys():\n",
    "    print('My friend '+friend+' favorite foods are:')\n",
    "    for food in my_friends_fav_food[friend]:\n",
    "        print(food)\n",
    "    print()"
   ]
  },
  {
   "cell_type": "code",
   "execution_count": 32,
   "metadata": {
    "collapsed": false
   },
   "outputs": [
    {
     "data": {
      "text/plain": [
       "['pizza', 'biryani', 'burger', 'pasta', 'ice cream', 'chicken']"
      ]
     },
     "execution_count": 32,
     "metadata": {},
     "output_type": "execute_result"
    }
   ],
   "source": [
    "my_friends_fav_food['Alexa']"
   ]
  },
  {
   "cell_type": "markdown",
   "metadata": {},
   "source": [
    "## dictionary inside a dictionay"
   ]
  },
  {
   "cell_type": "code",
   "execution_count": 33,
   "metadata": {
    "collapsed": true
   },
   "outputs": [],
   "source": [
    "my_friend = {\n",
    "    'alexa' : {\n",
    "        'age': 20,\n",
    "        'fav_lang':'Python',\n",
    "        'fav_food' : 'pizza'\n",
    "    },\n",
    "    'shaan' : {\n",
    "        'age' : 20,\n",
    "        'fav_lang' : 'C',\n",
    "        'fav_food' : 'biryani',\n",
    "        'salary' : 15000\n",
    "    },\n",
    "    'darshi': {\n",
    "        'age' : 19,\n",
    "        'fav_food' : 'pasta',\n",
    "        'fav_lang' : 'c++'\n",
    "    }\n",
    "}"
   ]
  },
  {
   "cell_type": "code",
   "execution_count": 34,
   "metadata": {
    "collapsed": false
   },
   "outputs": [
    {
     "data": {
      "text/plain": [
       "{'age': 20, 'fav_food': 'pizza', 'fav_lang': 'Python'}"
      ]
     },
     "execution_count": 34,
     "metadata": {},
     "output_type": "execute_result"
    }
   ],
   "source": [
    "my_friend['alexa']"
   ]
  },
  {
   "cell_type": "code",
   "execution_count": 35,
   "metadata": {
    "collapsed": false
   },
   "outputs": [
    {
     "data": {
      "text/plain": [
       "20"
      ]
     },
     "execution_count": 35,
     "metadata": {},
     "output_type": "execute_result"
    }
   ],
   "source": [
    "my_friend['alexa']['age']"
   ]
  },
  {
   "cell_type": "code",
   "execution_count": 36,
   "metadata": {
    "collapsed": false
   },
   "outputs": [
    {
     "data": {
      "text/plain": [
       "'pizza'"
      ]
     },
     "execution_count": 36,
     "metadata": {},
     "output_type": "execute_result"
    }
   ],
   "source": [
    "my_friend['alexa']['fav_food']"
   ]
  },
  {
   "cell_type": "code",
   "execution_count": 42,
   "metadata": {
    "collapsed": false
   },
   "outputs": [
    {
     "name": "stdout",
     "output_type": "stream",
     "text": [
      "My favortie friend shaan\n",
      "His age is 20\n",
      "My favortie friend darshi\n",
      "Her age is 19\n",
      "My favortie friend alexa\n",
      "His age is 20\n"
     ]
    }
   ],
   "source": [
    "for friend in my_friend:\n",
    "    print('My favortie friend '+friend)\n",
    "    if friend =='darshi':\n",
    "        print('Her age is '+str(my_friend[friend]['age']))\n",
    "        continue\n",
    "    print('His age is '+str(my_friend[friend]['age']))"
   ]
  },
  {
   "cell_type": "code",
   "execution_count": 57,
   "metadata": {
    "collapsed": false
   },
   "outputs": [
    {
     "name": "stdout",
     "output_type": "stream",
     "text": [
      "My favortie friend Shaan\n",
      "His age is 20.\n",
      "His fav_food is Biryani.\n",
      "His salary is 15000.\n",
      "His fav_lang is C.\n",
      "\n",
      "My favortie friend Darshi\n",
      "Her age is 19.\n",
      "Her fav_lang is C++.\n",
      "Her fav_food is Pasta.\n",
      "\n",
      "My favortie friend Alexa\n",
      "His age is 20.\n",
      "His fav_food is Pizza.\n",
      "His fav_lang is Python.\n",
      "\n"
     ]
    }
   ],
   "source": [
    "for friend, info in my_friend.items():\n",
    "    print('My favortie friend '+friend.title())\n",
    "    if friend == 'darshi':\n",
    "        for key,value in info.items():\n",
    "            print('Her ' +key+ ' is '+ str(value).title()+'.')\n",
    "        print()\n",
    "        continue\n",
    "    for key,value in info.items():\n",
    "        print('His '+key +' is '+ str(value).title()+'.')\n",
    "    print()"
   ]
  },
  {
   "cell_type": "code",
   "execution_count": 59,
   "metadata": {
    "collapsed": true
   },
   "outputs": [],
   "source": [
    "users = {\n",
    "    'user1':{\n",
    "        'name' :'alexa',\n",
    "        'age': 20,\n",
    "        'platform' : 'windows 10'\n",
    "    },\n",
    "    'user2':{\n",
    "        'name' :'gopal',\n",
    "        'age': 21,\n",
    "        'platform' : 'MAC os'\n",
    "    },\n",
    "    'user3':{\n",
    "        'name' :'shaan',\n",
    "        'age': 22,\n",
    "        'platform' : 'windows 10'\n",
    "    },\n",
    "    'user4':{\n",
    "        'name' :'darshi',\n",
    "        'age': 19,\n",
    "        'platform' : 'android'\n",
    "    }\n",
    "}"
   ]
  },
  {
   "cell_type": "code",
   "execution_count": 62,
   "metadata": {
    "collapsed": false
   },
   "outputs": [
    {
     "name": "stdout",
     "output_type": "stream",
     "text": [
      "age is 19.\n",
      "platform is Android.\n",
      "name is Darshi.\n",
      "\n",
      "age is 20.\n",
      "platform is Windows 10.\n",
      "name is Alexa.\n",
      "\n",
      "age is 21.\n",
      "platform is Mac Os.\n",
      "name is Gopal.\n",
      "\n",
      "age is 22.\n",
      "platform is Windows 10.\n",
      "name is Shaan.\n",
      "\n"
     ]
    }
   ],
   "source": [
    "for user, info in users.items():\n",
    "    for key, values in info.items():\n",
    "        print(key+ ' is ' +str(values).title()+'.')\n",
    "    print()"
   ]
  },
  {
   "cell_type": "markdown",
   "metadata": {},
   "source": [
    "## Thank you"
   ]
  }
 ],
 "metadata": {
  "kernelspec": {
   "display_name": "Python 3",
   "language": "python",
   "name": "python3"
  },
  "language_info": {
   "codemirror_mode": {
    "name": "ipython",
    "version": 3
   },
   "file_extension": ".py",
   "mimetype": "text/x-python",
   "name": "python",
   "nbconvert_exporter": "python",
   "pygments_lexer": "ipython3",
   "version": "3.5.2"
  }
 },
 "nbformat": 4,
 "nbformat_minor": 2
}
